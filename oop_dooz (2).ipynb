{
  "cells": [
    {
      "cell_type": "code",
      "source": [
        "class Checker:\n",
        "  pass"
      ],
      "metadata": {
        "id": "_IDDyojBrzXQ"
      },
      "execution_count": 2,
      "outputs": []
    },
    {
      "cell_type": "code",
      "source": [
        "class Board:\n",
        "    \"\"\"\n",
        "    A class representing a board, typically for board games like Tic Tac Toe.\n",
        "\n",
        "    Attributes: board (list of str)\n",
        "\n",
        "    Methods:\n",
        "\n",
        "    full(self):\n",
        "        Returns: True if the board is full, False otherwise.\n",
        "\n",
        "    free_space(self, position):\n",
        "\n",
        "        Parameters: position (int)\n",
        "\n",
        "        Returns: True if the specified position is free, False otherwise.\n",
        "\n",
        "    clear(self):\n",
        "        Clears the board by setting all positions, except the first, to be empty (indicated by ' ').\n",
        "\n",
        "    place_marker(self, marker, position):\n",
        "        Parameters: marker (str), position (int)\n",
        "    \"\"\"\n",
        "    def __init__(self):\n",
        "\n",
        "        self.clear()\n",
        "\n",
        "    def full(self):\n",
        "\n",
        "        return ' ' not in self.board[1:]\n",
        "\n",
        "    def free_space(self, position):\n",
        "\n",
        "        return self.board[position] == ' '\n",
        "\n",
        "    def clear(self):\n",
        "\n",
        "        self.board = [' ']*10\n",
        "\n",
        "    def place_marker(self, marker, position):\n",
        "\n",
        "        self.board[position] = marker\n"
      ],
      "metadata": {
        "id": "3GgvEtY8UeSb"
      },
      "execution_count": 3,
      "outputs": []
    },
    {
      "cell_type": "code",
      "execution_count": 4,
      "metadata": {
        "id": "OhYkhWybouUc"
      },
      "outputs": [],
      "source": [
        "# class Player\n",
        "# attrs : {marker,score,name ,turn:bool }\n",
        "# methods : { choose position,select marker }\n",
        "\n",
        "class Player:\n",
        "    def __init__(self,name):\n",
        "        self.marker = None\n",
        "        self.name = name\n",
        "        self.score = 0\n",
        "        self.turn = False\n",
        "\n",
        "    def __str__(self):\n",
        "      return self.name\n",
        "\n",
        "    def choose_position(self, board: Board):\n",
        "        # cheker : check input\n",
        "        while True:\n",
        "            position=input('Dear '+ self.name +' please choose a position:')\n",
        "            if position.isdigit():\n",
        "                position=int(position)\n",
        "                if position in range(1,10) and board.free_space(position): #board command\n",
        "                    return position\n",
        "\n",
        "    def select_marker(self):\n",
        "      while True:\n",
        "        player_sign = input(f'Dear {self.name}, choose X or O:')\n",
        "        if player_sign in ['x','X']:\n",
        "          self.marker = 'X'\n",
        "          return ('X', 'O')\n",
        "        elif player_sign in ['o','O']:\n",
        "          self.marker = 'O'\n",
        "          return ('O', 'X')\n",
        "\n",
        "    def cal_score(self, checker: Checker, board: Board):\n",
        "      board_list = board.board\n",
        "      win = checker.win_check(board_list, self.name)\n",
        "      if win:\n",
        "        self.score += 1\n",
        "      return win\n",
        "\n"
      ]
    },
    {
      "cell_type": "code",
      "execution_count": 5,
      "metadata": {
        "id": "GyJKYfGXouUc"
      },
      "outputs": [],
      "source": [
        "import random\n",
        "\n",
        "class Checker():\n",
        "    def __init__(self, players:list[Player]):\n",
        "        self.players = players\n",
        "        self.number_of_game = 0\n",
        "        self.game_ended = False\n",
        "        self.last_winner = None\n",
        "\n",
        "    def tie(self, board):\n",
        "        if  board.full():\n",
        "            self.game_ended = True\n",
        "            self.last_winner = None\n",
        "            return True\n",
        "        else: return False\n",
        "\n",
        "    def win_check(self, board,name):\n",
        "        winning_combination = [(1, 2, 3), (4, 5, 6), (7, 8, 9), (1, 4, 7), (2, 5, 8), (3, 6, 9), (1, 5, 9), (3, 5, 7)]\n",
        "        for player in self.players:\n",
        "            if player.name == name:\n",
        "                marker = player.marker\n",
        "\n",
        "                for combination in winning_combination:\n",
        "                    if board[combination[0]] == board[combination[1]] == board[combination[2]] == marker:\n",
        "                        self.number_of_game += 1\n",
        "                        self.last_winner = player.name\n",
        "                        self.game_ended = True\n",
        "                        return True\n",
        "                else: return False\n",
        "\n",
        "            else: print(\"name not in player list\")\n",
        "        else: print(\"Not a Valid List\")\n",
        "\n",
        "\n",
        "\n",
        "\n",
        "\n",
        "    def first_player(self):\n",
        "        if self.last_winner != None:\n",
        "            for player in self.players:\n",
        "                if player.name ==  self.last_winner:\n",
        "                    player.turn = True\n",
        "                    return player\n",
        "        else:\n",
        "            name_first_player = random.choice(self.players)\n",
        "            name_first_player.turn = True\n",
        "            return name_first_player\n",
        "\n",
        "    def change_turn(self):\n",
        "        for player in self.players:\n",
        "          # player.turn =not (player.turn)\n",
        "            if player.turn == True:\n",
        "                player.turn = False\n",
        "            else:\n",
        "                player.turn = True\n",
        "\n",
        "        for player in self.players:\n",
        "            if player.turn == True:\n",
        "              return player"
      ]
    },
    {
      "cell_type": "code",
      "source": [
        "from termcolor import colored\n",
        "from IPython.display import clear_output\n",
        "class Display():\n",
        "    '''\n",
        "    This class is for displaying board, the winner, the current turn, score of players, and number of games\n",
        "    '''\n",
        "\n",
        "\n",
        "    def __init__(self, number_of_games):\n",
        "        self.number_of_games = number_of_games\n",
        "\n",
        "    def display_board(self, board:list, turn:Player):\n",
        "        clear_output()\n",
        "        self.display_turn(turn)\n",
        "        self.display_n_of_games()\n",
        "        print(board[7] + ' | ' + board[8] + ' | ' + board[9])\n",
        "        print('---------')\n",
        "        print(board[4] + ' | ' + board[5] + ' | ' + board[6])\n",
        "        print('---------')\n",
        "        print(board[1] + ' | ' + board[2] + ' | ' + board[3])\n",
        "\n",
        "    def display_turn(self,turn):\n",
        "        print(colored(f\"turn is for {turn}\", 'red'))\n",
        "\n",
        "    def display_winner(self,winner:Player):\n",
        "        print(colored(f\"the winner is {winner.name}\", 'green'))\n",
        "\n",
        "    def show_emojies(self,players:list[Player], winner:Player):\n",
        "        if winner:\n",
        "          self.display_winner(winner)\n",
        "        else:\n",
        "            print(\"no winner\")\n",
        "\n",
        "\n",
        "    def display_n_of_games(self):\n",
        "        print(f\"the number of games is {self.number_of_games}\")\n",
        "\n",
        "    def show_scores(self,players:list[Player]):\n",
        "        print(colored(f\"The score of {players[0]} is {players[0].score}\", 'red'))\n",
        "        print(colored(f\"The score of {players[1]} is {players[1].score}\", 'blue'))\n",
        "\n",
        "\n",
        "\n"
      ],
      "metadata": {
        "id": "GDqOrFnKsJ5P"
      },
      "execution_count": 6,
      "outputs": []
    },
    {
      "cell_type": "code",
      "execution_count": 10,
      "metadata": {
        "id": "B5yItZE7ouUd"
      },
      "outputs": [],
      "source": [
        "class Launcher:\n",
        "  def __init__(self,player_names:list[str]):\n",
        "    print('Welcome')\n",
        "\n",
        "    self.board = Board()\n",
        "    print('create board')\n",
        "    self.players = []\n",
        "    for player_name in player_names:\n",
        "      player = Player(player_name)\n",
        "      self.players.append(player)\n",
        "    print(' Vs. '.join([str(player) for player in self.players]))\n",
        "    print('create players')\n",
        "\n",
        "    # players = [Player(player_name) for player_name in player_names  ]\n",
        "    markers = self.players[0].select_marker()\n",
        "    self.players[1].marker = markers[1]\n",
        "    print(markers)\n",
        "    print('set Markers ')\n",
        "\n",
        "    self.checker = Checker(self.players)\n",
        "    print('create checker')\n",
        "\n",
        "  def game(self):\n",
        "    turn_player = self.checker.first_player()\n",
        "    self.display = Display(self.checker.number_of_game)\n",
        "\n",
        "    while not self.checker.game_ended:\n",
        "      self.display.display_board(self.board.board,turn_player)\n",
        "\n",
        "      position = turn_player.choose_position(self.board)\n",
        "      self.board.place_marker(turn_player.marker,position)\n",
        "      self.display.display_board(self.board.board,turn_player)\n",
        "      win = turn_player.cal_score(self.checker,self.board)\n",
        "      if not win :\n",
        "        is_tie = self.checker.tie(self.board)\n",
        "      print('win: ',win)\n",
        "      print('tie',is_tie)\n",
        "      turn_player = self.checker.change_turn()\n",
        "\n",
        "\n",
        "\n",
        "\n",
        "\n",
        "\n",
        "\n"
      ]
    },
    {
      "cell_type": "code",
      "source": [
        "launcher = Launcher(['Ehsan','Erfan'])\n"
      ],
      "metadata": {
        "colab": {
          "base_uri": "https://localhost:8080/"
        },
        "id": "Vy4d9wg1EOkV",
        "outputId": "3f1d7c5c-41cf-46a5-87cd-4a8bda2b3ad7"
      },
      "execution_count": 11,
      "outputs": [
        {
          "output_type": "stream",
          "name": "stdout",
          "text": [
            "Welcome\n",
            "create board\n",
            "Ehsan Vs. Erfan\n",
            "create players\n",
            "Dear Ehsan, choose X or O:X\n",
            "('X', 'O')\n",
            "set Markers \n",
            "create checker\n"
          ]
        }
      ]
    },
    {
      "cell_type": "code",
      "source": [
        "launcher.game()"
      ],
      "metadata": {
        "colab": {
          "base_uri": "https://localhost:8080/"
        },
        "id": "-0WjuFgqEmRR",
        "outputId": "41474e76-6631-438b-adac-e287c931cc60"
      },
      "execution_count": 12,
      "outputs": [
        {
          "output_type": "stream",
          "name": "stdout",
          "text": [
            "turn is for Ehsan\n",
            "the number of games is 0\n",
            "  |   |  \n",
            "---------\n",
            "  |   |  \n",
            "---------\n",
            "X | X | X\n",
            "win:  True\n",
            "tie False\n"
          ]
        }
      ]
    },
    {
      "cell_type": "code",
      "source": [],
      "metadata": {
        "id": "9HomwnUtFAhV"
      },
      "execution_count": null,
      "outputs": []
    }
  ],
  "metadata": {
    "kernelspec": {
      "display_name": "Python 3",
      "language": "python",
      "name": "python3"
    },
    "language_info": {
      "codemirror_mode": {
        "name": "ipython",
        "version": 3
      },
      "file_extension": ".py",
      "mimetype": "text/x-python",
      "name": "python",
      "nbconvert_exporter": "python",
      "pygments_lexer": "ipython3",
      "version": "3.8.5"
    },
    "colab": {
      "provenance": []
    }
  },
  "nbformat": 4,
  "nbformat_minor": 0
}
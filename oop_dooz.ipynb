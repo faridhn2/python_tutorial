{
 "cells": [
  {
   "cell_type": "code",
   "execution_count": null,
   "metadata": {},
   "outputs": [],
   "source": [
    "# class Board\n",
    "# attrs : {board  }\n",
    "# methods : { full, free space,clear,set position }"
   ]
  },
  {
   "cell_type": "code",
   "execution_count": null,
   "metadata": {},
   "outputs": [],
   "source": [
    "# class Player\n",
    "# attrs : {marker,score,name ,turn:bool }\n",
    "# methods : { choose position,select marker }"
   ]
  },
  {
   "cell_type": "code",
   "execution_count": null,
   "metadata": {},
   "outputs": [],
   "source": [
    "# class Check\n",
    "# attrs : {game_ended,number_of_games,last_winner:Player , None  }\n",
    "# methods : { Tie, win,change_turn, first_player, }"
   ]
  },
  {
   "cell_type": "code",
   "execution_count": null,
   "metadata": {},
   "outputs": [],
   "source": [
    "# class Launcher\n",
    "# attrs : {board,players[Player], check, display }\n",
    "# methods : { replay,create_player,create_board }\n"
   ]
  },
  {
   "cell_type": "code",
   "execution_count": null,
   "metadata": {},
   "outputs": [],
   "source": [
    "# class Display \n",
    "# from termcolor import colored\n",
    "#print(colored('Hi','red'))\n",
    "# print(u\"\\u2639\") \n",
    "# attrs : { number_of_games }\n",
    "# methods : { display_board , display_turn , display_winner, show_emojies,display_n_of_games,show_scores }"
   ]
  },
  {
   "cell_type": "code",
   "execution_count": 4,
   "metadata": {},
   "outputs": [],
   "source": [
    "from termcolor import colored"
   ]
  },
  {
   "cell_type": "code",
   "execution_count": 12,
   "metadata": {},
   "outputs": [
    {
     "name": "stdout",
     "output_type": "stream",
     "text": [
      "\u001b[32m✓\u001b[0m\n"
     ]
    }
   ],
   "source": [
    "print(colored(u\"\\u2713\",'green'))"
   ]
  },
  {
   "cell_type": "code",
   "execution_count": 6,
   "metadata": {},
   "outputs": [
    {
     "name": "stdout",
     "output_type": "stream",
     "text": [
      "☹\n"
     ]
    }
   ],
   "source": [
    "print(u\"\\u2639\") "
   ]
  },
  {
   "cell_type": "code",
   "execution_count": null,
   "metadata": {},
   "outputs": [],
   "source": []
  }
 ],
 "metadata": {
  "kernelspec": {
   "display_name": "Python 3",
   "language": "python",
   "name": "python3"
  },
  "language_info": {
   "codemirror_mode": {
    "name": "ipython",
    "version": 3
   },
   "file_extension": ".py",
   "mimetype": "text/x-python",
   "name": "python",
   "nbconvert_exporter": "python",
   "pygments_lexer": "ipython3",
   "version": "3.8.5"
  }
 },
 "nbformat": 4,
 "nbformat_minor": 4
}

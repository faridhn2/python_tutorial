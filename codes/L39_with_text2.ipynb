{
 "cells": [
  {
   "cell_type": "code",
   "execution_count": 1,
   "metadata": {},
   "outputs": [],
   "source": [
    "my_string = 'Python is a high-level, general-purpose programming language. Its design philosophy emphasizes code readability with the use of significant indentation via the off-side rule. Python is dynamically typed and garbage-collected. It supports multiple programming paradigms, including structured (particularly procedural), object-oriented and functional programming. It is often described as a \"batteries included\" language due to its comprehensive standard library'"
   ]
  },
  {
   "cell_type": "code",
   "execution_count": 2,
   "metadata": {},
   "outputs": [
    {
     "data": {
      "text/plain": [
       "'Python is a high-level, general-purpose programming language. Its design philosophy emphasizes code readability with the use of significant indentation via the off-side rule. Python is dynamically typed and garbage-collected. It supports multiple programming paradigms, including structured (particularly procedural), object-oriented and functional programming. It is often described as a \"batteries included\" language due to its comprehensive standard library'"
      ]
     },
     "execution_count": 2,
     "metadata": {},
     "output_type": "execute_result"
    }
   ],
   "source": [
    "my_string"
   ]
  },
  {
   "cell_type": "code",
   "execution_count": 5,
   "metadata": {},
   "outputs": [],
   "source": [
    "liststr=my_string.split()\n"
   ]
  },
  {
   "cell_type": "code",
   "execution_count": 6,
   "metadata": {},
   "outputs": [],
   "source": [
    "def text_normal(text):\n",
    "    set1={'.',',','(',')','\"'}\n",
    "    for j in set1:\n",
    "        text=text.replace(j,'')\n",
    "        text=text.lower() \n",
    "    return text\n",
    "    "
   ]
  },
  {
   "cell_type": "code",
   "execution_count": 4,
   "metadata": {},
   "outputs": [],
   "source": [
    "# set1={'.',',','(',')','\"'}\n",
    "# for i,v in enumerate(liststr):\n",
    "#     for j in set1: \n",
    "#         v=v.replace(j,'')\n",
    "#         v=v.lower()\n",
    "#     liststr[i]=v\n",
    "    "
   ]
  },
  {
   "cell_type": "code",
   "execution_count": 8,
   "metadata": {},
   "outputs": [],
   "source": [
    "liststr = list(map(text_normal,liststr))"
   ]
  },
  {
   "cell_type": "code",
   "execution_count": 9,
   "metadata": {},
   "outputs": [
    {
     "data": {
      "text/plain": [
       "['python',\n",
       " 'is',\n",
       " 'a',\n",
       " 'high-level',\n",
       " 'general-purpose',\n",
       " 'programming',\n",
       " 'language',\n",
       " 'its',\n",
       " 'design',\n",
       " 'philosophy',\n",
       " 'emphasizes',\n",
       " 'code',\n",
       " 'readability',\n",
       " 'with',\n",
       " 'the',\n",
       " 'use',\n",
       " 'of',\n",
       " 'significant',\n",
       " 'indentation',\n",
       " 'via',\n",
       " 'the',\n",
       " 'off-side',\n",
       " 'rule',\n",
       " 'python',\n",
       " 'is',\n",
       " 'dynamically',\n",
       " 'typed',\n",
       " 'and',\n",
       " 'garbage-collected',\n",
       " 'it',\n",
       " 'supports',\n",
       " 'multiple',\n",
       " 'programming',\n",
       " 'paradigms',\n",
       " 'including',\n",
       " 'structured',\n",
       " 'particularly',\n",
       " 'procedural',\n",
       " 'object-oriented',\n",
       " 'and',\n",
       " 'functional',\n",
       " 'programming',\n",
       " 'it',\n",
       " 'is',\n",
       " 'often',\n",
       " 'described',\n",
       " 'as',\n",
       " 'a',\n",
       " 'batteries',\n",
       " 'included',\n",
       " 'language',\n",
       " 'due',\n",
       " 'to',\n",
       " 'its',\n",
       " 'comprehensive',\n",
       " 'standard',\n",
       " 'library']"
      ]
     },
     "execution_count": 9,
     "metadata": {},
     "output_type": "execute_result"
    }
   ],
   "source": [
    "liststr"
   ]
  },
  {
   "cell_type": "code",
   "execution_count": 10,
   "metadata": {},
   "outputs": [],
   "source": [
    "def remover(text):\n",
    "    set2 = {'is', 'a', 'its', 'of', 'it', 'as','at' ,'to', 'the', 'with','and'}\n",
    "    return not (text in set2)"
   ]
  },
  {
   "cell_type": "code",
   "execution_count": 52,
   "metadata": {},
   "outputs": [],
   "source": [
    "# new_list = []\n",
    "# for index, value in enumerate(liststr):\n",
    "#     if not value in set2:\n",
    "#         new_list.append(value)\n",
    "    "
   ]
  },
  {
   "cell_type": "code",
   "execution_count": 11,
   "metadata": {},
   "outputs": [],
   "source": [
    "liststr = list(filter(remover,liststr))"
   ]
  },
  {
   "cell_type": "code",
   "execution_count": 12,
   "metadata": {},
   "outputs": [
    {
     "data": {
      "text/plain": [
       "['python',\n",
       " 'high-level',\n",
       " 'general-purpose',\n",
       " 'programming',\n",
       " 'language',\n",
       " 'design',\n",
       " 'philosophy',\n",
       " 'emphasizes',\n",
       " 'code',\n",
       " 'readability',\n",
       " 'use',\n",
       " 'significant',\n",
       " 'indentation',\n",
       " 'via',\n",
       " 'off-side',\n",
       " 'rule',\n",
       " 'python',\n",
       " 'dynamically',\n",
       " 'typed',\n",
       " 'garbage-collected',\n",
       " 'supports',\n",
       " 'multiple',\n",
       " 'programming',\n",
       " 'paradigms',\n",
       " 'including',\n",
       " 'structured',\n",
       " 'particularly',\n",
       " 'procedural',\n",
       " 'object-oriented',\n",
       " 'functional',\n",
       " 'programming',\n",
       " 'often',\n",
       " 'described',\n",
       " 'batteries',\n",
       " 'included',\n",
       " 'language',\n",
       " 'due',\n",
       " 'comprehensive',\n",
       " 'standard',\n",
       " 'library']"
      ]
     },
     "execution_count": 12,
     "metadata": {},
     "output_type": "execute_result"
    }
   ],
   "source": [
    "liststr"
   ]
  },
  {
   "cell_type": "code",
   "execution_count": 13,
   "metadata": {},
   "outputs": [],
   "source": [
    "words_d = {}"
   ]
  },
  {
   "cell_type": "code",
   "execution_count": 15,
   "metadata": {},
   "outputs": [],
   "source": [
    "for word in liststr:\n",
    "    if word in words_d:\n",
    "        #         words_d[word]=words_d[word]+1\n",
    "        words_d[word] +=1\n",
    "    else:\n",
    "        words_d[word]=1"
   ]
  },
  {
   "cell_type": "code",
   "execution_count": 38,
   "metadata": {},
   "outputs": [
    {
     "data": {
      "text/plain": [
       "True"
      ]
     },
     "execution_count": 38,
     "metadata": {},
     "output_type": "execute_result"
    }
   ],
   "source": [
    "'python' in words_d"
   ]
  },
  {
   "cell_type": "code",
   "execution_count": 39,
   "metadata": {},
   "outputs": [
    {
     "name": "stdout",
     "output_type": "stream",
     "text": [
      "python\n",
      "high-level\n",
      "general-purpose\n",
      "programming\n",
      "language\n",
      "design\n",
      "philosophy\n",
      "emphasizes\n",
      "code\n",
      "readability\n",
      "use\n",
      "significant\n",
      "indentation\n",
      "via\n",
      "off-side\n",
      "rule\n",
      "dynamically\n",
      "typed\n",
      "garbage-collected\n",
      "supports\n",
      "multiple\n",
      "paradigms\n",
      "including\n",
      "structured\n",
      "particularly\n",
      "procedural\n",
      "object-oriented\n",
      "functional\n",
      "often\n",
      "described\n",
      "batteries\n",
      "included\n",
      "due\n",
      "comprehensive\n",
      "standard\n",
      "library\n"
     ]
    }
   ],
   "source": [
    "for text in words_d:\n",
    "    print(text)"
   ]
  },
  {
   "cell_type": "code",
   "execution_count": 35,
   "metadata": {},
   "outputs": [
    {
     "data": {
      "text/plain": [
       "{'python': 2,\n",
       " 'high-level': 1,\n",
       " 'general-purpose': 1,\n",
       " 'programming': 3,\n",
       " 'language': 2,\n",
       " 'design': 1,\n",
       " 'philosophy': 1,\n",
       " 'emphasizes': 1,\n",
       " 'code': 1,\n",
       " 'readability': 1,\n",
       " 'use': 1,\n",
       " 'significant': 1,\n",
       " 'indentation': 1,\n",
       " 'via': 1,\n",
       " 'off-side': 1,\n",
       " 'rule': 1,\n",
       " 'dynamically': 1,\n",
       " 'typed': 1,\n",
       " 'garbage-collected': 1,\n",
       " 'supports': 1,\n",
       " 'multiple': 1,\n",
       " 'paradigms': 1,\n",
       " 'including': 1,\n",
       " 'structured': 1,\n",
       " 'particularly': 1,\n",
       " 'procedural': 1,\n",
       " 'object-oriented': 1,\n",
       " 'functional': 1,\n",
       " 'often': 1,\n",
       " 'described': 1,\n",
       " 'batteries': 1,\n",
       " 'included': 1,\n",
       " 'due': 1,\n",
       " 'comprehensive': 1,\n",
       " 'standard': 1,\n",
       " 'library': 1}"
      ]
     },
     "execution_count": 35,
     "metadata": {},
     "output_type": "execute_result"
    }
   ],
   "source": [
    "words_d"
   ]
  },
  {
   "cell_type": "code",
   "execution_count": 58,
   "metadata": {},
   "outputs": [
    {
     "data": {
      "text/plain": [
       "[4, 5, 7, 8]"
      ]
     },
     "execution_count": 58,
     "metadata": {},
     "output_type": "execute_result"
    }
   ],
   "source": [
    "sorted([5,8,7,4])"
   ]
  },
  {
   "cell_type": "code",
   "execution_count": 19,
   "metadata": {},
   "outputs": [
    {
     "data": {
      "text/plain": [
       "['via',\n",
       " 'use',\n",
       " 'typed',\n",
       " 'supports',\n",
       " 'structured',\n",
       " 'standard',\n",
       " 'significant',\n",
       " 'rule',\n",
       " 'readability',\n",
       " 'python',\n",
       " 'programming',\n",
       " 'procedural',\n",
       " 'philosophy',\n",
       " 'particularly',\n",
       " 'paradigms',\n",
       " 'often',\n",
       " 'off-side',\n",
       " 'object-oriented',\n",
       " 'multiple',\n",
       " 'library',\n",
       " 'language',\n",
       " 'indentation',\n",
       " 'including',\n",
       " 'included',\n",
       " 'high-level',\n",
       " 'general-purpose',\n",
       " 'garbage-collected',\n",
       " 'functional',\n",
       " 'emphasizes',\n",
       " 'dynamically',\n",
       " 'due',\n",
       " 'design',\n",
       " 'described',\n",
       " 'comprehensive',\n",
       " 'code',\n",
       " 'batteries']"
      ]
     },
     "execution_count": 19,
     "metadata": {},
     "output_type": "execute_result"
    }
   ],
   "source": [
    "sorted(words_d,reverse=True)"
   ]
  },
  {
   "cell_type": "code",
   "execution_count": 61,
   "metadata": {},
   "outputs": [
    {
     "data": {
      "text/plain": [
       "[('via', 1),\n",
       " ('use', 1),\n",
       " ('typed', 1),\n",
       " ('supports', 1),\n",
       " ('structured', 1),\n",
       " ('standard', 1),\n",
       " ('significant', 1),\n",
       " ('rule', 1),\n",
       " ('readability', 1),\n",
       " ('python', 2),\n",
       " ('programming', 3),\n",
       " ('procedural', 1),\n",
       " ('philosophy', 1),\n",
       " ('particularly', 1),\n",
       " ('paradigms', 1),\n",
       " ('often', 1),\n",
       " ('off-side', 1),\n",
       " ('object-oriented', 1),\n",
       " ('multiple', 1),\n",
       " ('library', 1),\n",
       " ('language', 2),\n",
       " ('indentation', 1),\n",
       " ('including', 1),\n",
       " ('included', 1),\n",
       " ('high-level', 1),\n",
       " ('general-purpose', 1),\n",
       " ('garbage-collected', 1),\n",
       " ('functional', 1),\n",
       " ('emphasizes', 1),\n",
       " ('dynamically', 1),\n",
       " ('due', 1),\n",
       " ('design', 1),\n",
       " ('described', 1),\n",
       " ('comprehensive', 1),\n",
       " ('code', 1),\n",
       " ('batteries', 1)]"
      ]
     },
     "execution_count": 61,
     "metadata": {},
     "output_type": "execute_result"
    }
   ],
   "source": [
    "sorted(words_d.items(),reverse=True)"
   ]
  },
  {
   "cell_type": "code",
   "execution_count": 20,
   "metadata": {},
   "outputs": [
    {
     "data": {
      "text/plain": [
       "[('programming', 3),\n",
       " ('python', 2),\n",
       " ('language', 2),\n",
       " ('high-level', 1),\n",
       " ('general-purpose', 1),\n",
       " ('design', 1),\n",
       " ('philosophy', 1),\n",
       " ('emphasizes', 1),\n",
       " ('code', 1),\n",
       " ('readability', 1),\n",
       " ('use', 1),\n",
       " ('significant', 1),\n",
       " ('indentation', 1),\n",
       " ('via', 1),\n",
       " ('off-side', 1),\n",
       " ('rule', 1),\n",
       " ('dynamically', 1),\n",
       " ('typed', 1),\n",
       " ('garbage-collected', 1),\n",
       " ('supports', 1),\n",
       " ('multiple', 1),\n",
       " ('paradigms', 1),\n",
       " ('including', 1),\n",
       " ('structured', 1),\n",
       " ('particularly', 1),\n",
       " ('procedural', 1),\n",
       " ('object-oriented', 1),\n",
       " ('functional', 1),\n",
       " ('often', 1),\n",
       " ('described', 1),\n",
       " ('batteries', 1),\n",
       " ('included', 1),\n",
       " ('due', 1),\n",
       " ('comprehensive', 1),\n",
       " ('standard', 1),\n",
       " ('library', 1)]"
      ]
     },
     "execution_count": 20,
     "metadata": {},
     "output_type": "execute_result"
    }
   ],
   "source": [
    "sorted(words_d.items(),reverse=True,key=lambda x:x[1])"
   ]
  },
  {
   "cell_type": "code",
   "execution_count": null,
   "metadata": {},
   "outputs": [],
   "source": [
    "def f2(tp)"
   ]
  },
  {
   "cell_type": "code",
   "execution_count": 21,
   "metadata": {},
   "outputs": [
    {
     "data": {
      "text/plain": [
       "[('programming', 3), ('python', 2), ('language', 2)]"
      ]
     },
     "execution_count": 21,
     "metadata": {},
     "output_type": "execute_result"
    }
   ],
   "source": [
    "sorted(words_d.items(),reverse=True,key=lambda x:x[1])[:3]"
   ]
  },
  {
   "cell_type": "code",
   "execution_count": 23,
   "metadata": {},
   "outputs": [
    {
     "data": {
      "text/plain": [
       "['programming', 'python', 'language']"
      ]
     },
     "execution_count": 23,
     "metadata": {},
     "output_type": "execute_result"
    }
   ],
   "source": [
    "my_list = sorted(words_d.items(),reverse=True,key=lambda x:x[1])[:3]\n",
    "list(map(lambda x:x[0],my_list))"
   ]
  },
  {
   "cell_type": "code",
   "execution_count": 24,
   "metadata": {},
   "outputs": [],
   "source": [
    "my_kwords = list(map(lambda x:x[0],my_list))"
   ]
  },
  {
   "cell_type": "code",
   "execution_count": 26,
   "metadata": {},
   "outputs": [
    {
     "data": {
      "text/plain": [
       "'programming<------>python<------>language'"
      ]
     },
     "execution_count": 26,
     "metadata": {},
     "output_type": "execute_result"
    }
   ],
   "source": [
    "\"<------>\".join(my_kwords)"
   ]
  },
  {
   "cell_type": "code",
   "execution_count": 27,
   "metadata": {},
   "outputs": [
    {
     "data": {
      "text/plain": [
       "'programming,python,language'"
      ]
     },
     "execution_count": 27,
     "metadata": {},
     "output_type": "execute_result"
    }
   ],
   "source": [
    "\",\".join(my_kwords)"
   ]
  },
  {
   "cell_type": "code",
   "execution_count": 28,
   "metadata": {},
   "outputs": [
    {
     "data": {
      "text/plain": [
       "'programmingpythonlanguage'"
      ]
     },
     "execution_count": 28,
     "metadata": {},
     "output_type": "execute_result"
    }
   ],
   "source": [
    "\"\".join(my_kwords)"
   ]
  },
  {
   "cell_type": "code",
   "execution_count": 29,
   "metadata": {},
   "outputs": [
    {
     "data": {
      "text/plain": [
       "'programming python language'"
      ]
     },
     "execution_count": 29,
     "metadata": {},
     "output_type": "execute_result"
    }
   ],
   "source": [
    "\" \".join(my_kwords)"
   ]
  },
  {
   "cell_type": "code",
   "execution_count": 32,
   "metadata": {},
   "outputs": [],
   "source": [
    "list1 = sorted(words_d.items(),reverse=False)"
   ]
  },
  {
   "cell_type": "code",
   "execution_count": 33,
   "metadata": {},
   "outputs": [
    {
     "data": {
      "text/plain": [
       "[('batteries', 1),\n",
       " ('code', 1),\n",
       " ('comprehensive', 1),\n",
       " ('described', 1),\n",
       " ('design', 1),\n",
       " ('due', 1),\n",
       " ('dynamically', 1),\n",
       " ('emphasizes', 1),\n",
       " ('functional', 1),\n",
       " ('garbage-collected', 1),\n",
       " ('general-purpose', 1),\n",
       " ('high-level', 1),\n",
       " ('included', 1),\n",
       " ('including', 1),\n",
       " ('indentation', 1),\n",
       " ('language', 2),\n",
       " ('library', 1),\n",
       " ('multiple', 1),\n",
       " ('object-oriented', 1),\n",
       " ('off-side', 1),\n",
       " ('often', 1),\n",
       " ('paradigms', 1),\n",
       " ('particularly', 1),\n",
       " ('philosophy', 1),\n",
       " ('procedural', 1),\n",
       " ('programming', 3),\n",
       " ('python', 2),\n",
       " ('readability', 1),\n",
       " ('rule', 1),\n",
       " ('significant', 1),\n",
       " ('standard', 1),\n",
       " ('structured', 1),\n",
       " ('supports', 1),\n",
       " ('typed', 1),\n",
       " ('use', 1),\n",
       " ('via', 1)]"
      ]
     },
     "execution_count": 33,
     "metadata": {},
     "output_type": "execute_result"
    }
   ],
   "source": [
    "list1"
   ]
  },
  {
   "cell_type": "code",
   "execution_count": 34,
   "metadata": {},
   "outputs": [
    {
     "data": {
      "text/plain": [
       "[('programming', 3),\n",
       " ('language', 2),\n",
       " ('python', 2),\n",
       " ('batteries', 1),\n",
       " ('code', 1),\n",
       " ('comprehensive', 1),\n",
       " ('described', 1),\n",
       " ('design', 1),\n",
       " ('due', 1),\n",
       " ('dynamically', 1),\n",
       " ('emphasizes', 1),\n",
       " ('functional', 1),\n",
       " ('garbage-collected', 1),\n",
       " ('general-purpose', 1),\n",
       " ('high-level', 1),\n",
       " ('included', 1),\n",
       " ('including', 1),\n",
       " ('indentation', 1),\n",
       " ('library', 1),\n",
       " ('multiple', 1),\n",
       " ('object-oriented', 1),\n",
       " ('off-side', 1),\n",
       " ('often', 1),\n",
       " ('paradigms', 1),\n",
       " ('particularly', 1),\n",
       " ('philosophy', 1),\n",
       " ('procedural', 1),\n",
       " ('readability', 1),\n",
       " ('rule', 1),\n",
       " ('significant', 1),\n",
       " ('standard', 1),\n",
       " ('structured', 1),\n",
       " ('supports', 1),\n",
       " ('typed', 1),\n",
       " ('use', 1),\n",
       " ('via', 1)]"
      ]
     },
     "execution_count": 34,
     "metadata": {},
     "output_type": "execute_result"
    }
   ],
   "source": [
    "sorted(list1,reverse=True,key=lambda x:x[1])\n"
   ]
  },
  {
   "cell_type": "code",
   "execution_count": null,
   "metadata": {},
   "outputs": [],
   "source": []
  }
 ],
 "metadata": {
  "kernelspec": {
   "display_name": "Python 3",
   "language": "python",
   "name": "python3"
  },
  "language_info": {
   "codemirror_mode": {
    "name": "ipython",
    "version": 3
   },
   "file_extension": ".py",
   "mimetype": "text/x-python",
   "name": "python",
   "nbconvert_exporter": "python",
   "pygments_lexer": "ipython3",
   "version": "3.8.5"
  }
 },
 "nbformat": 4,
 "nbformat_minor": 4
}

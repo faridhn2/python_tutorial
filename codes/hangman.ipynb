{
 "cells": [
  {
   "cell_type": "code",
   "execution_count": 1,
   "metadata": {},
   "outputs": [],
   "source": [
    "#1\n",
    "import random\n",
    "def select_word():\n",
    "    dic= {'ambitious': ' having a strong desire to succed or achive sth significant',\\\n",
    "         'resilient': ' able to recover quickly from difficult situations or setbacks',\\\n",
    "         'charismatic': 'possessing  compelling charm or attractiveness that inspires devotion in others',\\\n",
    "         'empathetic': ' having the ability to understand and share the feelings of other',\\\n",
    "         'resourceful':' skilled at finding ways to overcome obstacles or achieve goals with limited resources'}\n",
    "    word= random.choice(list(dic.keys()))\n",
    "    return word,dic[word]"
   ]
  },
  {
   "cell_type": "code",
   "execution_count": 2,
   "metadata": {},
   "outputs": [
    {
     "data": {
      "text/plain": [
       "('empathetic',\n",
       " ' having the ability to understand and share the feelings of other')"
      ]
     },
     "execution_count": 2,
     "metadata": {},
     "output_type": "execute_result"
    }
   ],
   "source": [
    "select_word()"
   ]
  },
  {
   "cell_type": "code",
   "execution_count": 3,
   "metadata": {},
   "outputs": [],
   "source": [
    "#2"
   ]
  },
  {
   "cell_type": "code",
   "execution_count": 4,
   "metadata": {},
   "outputs": [],
   "source": [
    "from termcolor import colored\n",
    "from IPython.display import clear_output\n",
    "\n",
    "def display(word,wrong,correct,describe):\n",
    "    '''this function display hang man game\n",
    "    input:(word:str , wrong:list , correct:dict , descirbe:str)\n",
    "    output:none'''\n",
    "    clear_output()\n",
    "    print('\\t'*2,'HANG MAN GAME','\\n'*2)\n",
    "    print('guess a word that:', describe,'\\n'*2)\n",
    "    for i in word:\n",
    "        if i in correct.keys():\n",
    "            print(i.upper(),end='\\t')\n",
    "        else:\n",
    "            print(' ',end='\\t')\n",
    "    print('\\n','-\\t'*len(word),sep='')\n",
    "    for i in wrong:\n",
    "        print(colored(i.upper(),'red'),end='\\t')\n",
    "    print('\\n'*2)\n",
    "    for i in range(65,91):\n",
    "        if chr(i).lower() in wrong:\n",
    "            print(colored(chr(i),'red'),end=' ')\n",
    "    \n",
    "        elif chr(i).lower() in correct.keys():\n",
    "            print(colored(chr(i),'green'),end=' ')\n",
    "        else:\n",
    "            \n",
    "                print(chr(i),end=' ')\n",
    "    \n",
    "    "
   ]
  },
  {
   "cell_type": "code",
   "execution_count": 5,
   "metadata": {},
   "outputs": [
    {
     "name": "stdout",
     "output_type": "stream",
     "text": [
      "\t\t HANG MAN GAME \n",
      "\n",
      "\n",
      "guess a word that: gddjfgwesuigf \n",
      "\n",
      "\n",
      "W\t \t \t \t\n",
      "-\t-\t-\t-\t\n",
      "\u001b[31mA\u001b[0m\t\u001b[31mB\u001b[0m\t\n",
      "\n",
      "\n",
      "\u001b[31mA\u001b[0m \u001b[31mB\u001b[0m C D E F G H I J K L M N O P Q R S T U V \u001b[32mW\u001b[0m X Y Z "
     ]
    }
   ],
   "source": [
    "display(\"word\",['a','b'],{\"w\":[0]},\"gddjfgwesuigf\")"
   ]
  },
  {
   "cell_type": "code",
   "execution_count": 6,
   "metadata": {},
   "outputs": [],
   "source": [
    "#3\n",
    "\n",
    "def recive(word , corrects , wrongs):\n",
    "    word = word.lower()\n",
    "    alphabet = { 'a' , 'b' , 'c' , 'd' , 'e' , 'f' , 'g' , 'h' , 'i' , 'j' , 'k' , 'l' , 'm', 'n'\n",
    "               ,'o' ,  'p' , 'q' , 'r' , 's' , 't' , 'u' , 'v' , 'w' , 'x' , 'y' , 'z' }\n",
    "    \n",
    "    \n",
    "    word_splitted = [l for l in word]\n",
    "    \n",
    "    letter = input(\"enter youre vaue: \").lower()    \n",
    "    while not letter in alphabet:\n",
    "        letter = input(\"enter youre vaue: \").lower()\n",
    "\n",
    "        \n",
    "        \n",
    "    while letter in word_splitted:\n",
    "        index = word_splitted.index(letter)\n",
    "        \n",
    "#         if len(corrects) == 0:\n",
    "#             corrects[letter] = [index]\n",
    "        \n",
    "        \n",
    "#         elif len(corrects) > 0:\n",
    "        if letter in corrects.keys():\n",
    "            corrects[letter].append(index)\n",
    "\n",
    "        else:\n",
    "            corrects[letter] = [index]\n",
    "\n",
    "\n",
    "                \n",
    "        word_splitted[index] = ''\n",
    "            \n",
    "            \n",
    "    if not letter in  corrects:\n",
    "        if not letter in wrongs:\n",
    "            wrongs.append(letter)\n",
    "                \n",
    "    return corrects , wrongs\n",
    "    \n",
    "#c , w = recive(\"hell\" , {} , [])\n",
    "#print (c , w)\n",
    "        \n",
    "        \n",
    "        "
   ]
  },
  {
   "cell_type": "code",
   "execution_count": 7,
   "metadata": {},
   "outputs": [],
   "source": [
    "#4\n",
    "def check_end(word, corrects, wrong):\n",
    "    #word-->str-->len\n",
    "    #corrects-->dict-->values()-->list-->len()=len(word)\n",
    "    word_len=len(word)\n",
    "    list_corrects=list(corrects.values())\n",
    "    list_corrects_len=len(list_corrects)\n",
    "    list_wrong_len=len(wrong)\n",
    "    correct_l=list()\n",
    "    for index_c in range(list_corrects_len):\n",
    "        correct_l+=list_corrects[index_c]\n",
    "    if len(wrong)>=word_len:\n",
    "        print('\\nYou Lose!')\n",
    "        return True\n",
    "    elif len(correct_l)==word_len:\n",
    "        print('\\nYou win!')\n",
    "        return True\n",
    "        return False"
   ]
  },
  {
   "cell_type": "code",
   "execution_count": 8,
   "metadata": {},
   "outputs": [],
   "source": [
    "def asembler():\n",
    "    print('welcom to Hang Mam')\n",
    "    correct={}\n",
    "    wrong=[]\n",
    "    word,describe=select_word()\n",
    "    display(word,wrong,correct,describe)\n",
    "    while True:\n",
    "#         display(word,wrong,correct,describe)\n",
    "        \n",
    "        correct,wrong=recive(word , correct , wrong)\n",
    "        display(word,wrong,correct,describe)\n",
    "        if check_end(word, correct, wrong):\n",
    "           \n",
    "            break"
   ]
  },
  {
   "cell_type": "code",
   "execution_count": 9,
   "metadata": {},
   "outputs": [],
   "source": [
    "def main():\n",
    "    while True:\n",
    "        asembler()\n",
    "        mark=input('d you want to countinue?y/n')\n",
    "        mark.lower()\n",
    "        if mark=='n':\n",
    "            break"
   ]
  },
  {
   "cell_type": "code",
   "execution_count": 10,
   "metadata": {},
   "outputs": [
    {
     "name": "stdout",
     "output_type": "stream",
     "text": [
      "\t\t HANG MAN GAME \n",
      "\n",
      "\n",
      "guess a word that:  having the ability to understand and share the feelings of other \n",
      "\n",
      "\n",
      " \t \t \tA\t \t \t \t \t \t \t\n",
      "-\t-\t-\t-\t-\t-\t-\t-\t-\t-\t\n",
      "\u001b[31mS\u001b[0m\t\u001b[31mD\u001b[0m\t\u001b[31mF\u001b[0m\t\n",
      "\n",
      "\n",
      "\u001b[32mA\u001b[0m B C \u001b[31mD\u001b[0m E \u001b[31mF\u001b[0m G H I J K L M N O P Q R \u001b[31mS\u001b[0m T U V W X Y Z "
     ]
    },
    {
     "ename": "KeyboardInterrupt",
     "evalue": "Interrupted by user",
     "output_type": "error",
     "traceback": [
      "\u001b[1;31m------------------------------------------------------\u001b[0m",
      "\u001b[1;31mKeyboardInterrupt\u001b[0m    Traceback (most recent call last)",
      "\u001b[1;32m<ipython-input-10-263240bbee7e>\u001b[0m in \u001b[0;36m<module>\u001b[1;34m\u001b[0m\n\u001b[1;32m----> 1\u001b[1;33m \u001b[0mmain\u001b[0m\u001b[1;33m(\u001b[0m\u001b[1;33m)\u001b[0m\u001b[1;33m\u001b[0m\u001b[1;33m\u001b[0m\u001b[0m\n\u001b[0m",
      "\u001b[1;32m<ipython-input-9-1c6466135d0a>\u001b[0m in \u001b[0;36mmain\u001b[1;34m()\u001b[0m\n\u001b[0;32m      1\u001b[0m \u001b[1;32mdef\u001b[0m \u001b[0mmain\u001b[0m\u001b[1;33m(\u001b[0m\u001b[1;33m)\u001b[0m\u001b[1;33m:\u001b[0m\u001b[1;33m\u001b[0m\u001b[1;33m\u001b[0m\u001b[0m\n\u001b[0;32m      2\u001b[0m     \u001b[1;32mwhile\u001b[0m \u001b[1;32mTrue\u001b[0m\u001b[1;33m:\u001b[0m\u001b[1;33m\u001b[0m\u001b[1;33m\u001b[0m\u001b[0m\n\u001b[1;32m----> 3\u001b[1;33m         \u001b[0masembler\u001b[0m\u001b[1;33m(\u001b[0m\u001b[1;33m)\u001b[0m\u001b[1;33m\u001b[0m\u001b[1;33m\u001b[0m\u001b[0m\n\u001b[0m\u001b[0;32m      4\u001b[0m         \u001b[0mmark\u001b[0m\u001b[1;33m=\u001b[0m\u001b[0minput\u001b[0m\u001b[1;33m(\u001b[0m\u001b[1;34m'd you want to countinue?y/n'\u001b[0m\u001b[1;33m)\u001b[0m\u001b[1;33m\u001b[0m\u001b[1;33m\u001b[0m\u001b[0m\n\u001b[0;32m      5\u001b[0m         \u001b[0mmark\u001b[0m\u001b[1;33m.\u001b[0m\u001b[0mlower\u001b[0m\u001b[1;33m(\u001b[0m\u001b[1;33m)\u001b[0m\u001b[1;33m\u001b[0m\u001b[1;33m\u001b[0m\u001b[0m\n",
      "\u001b[1;32m<ipython-input-8-b0fc1e53b952>\u001b[0m in \u001b[0;36masembler\u001b[1;34m()\u001b[0m\n\u001b[0;32m      8\u001b[0m \u001b[1;31m#         display(word,wrong,correct,describe)\u001b[0m\u001b[1;33m\u001b[0m\u001b[1;33m\u001b[0m\u001b[1;33m\u001b[0m\u001b[0m\n\u001b[0;32m      9\u001b[0m \u001b[1;33m\u001b[0m\u001b[0m\n\u001b[1;32m---> 10\u001b[1;33m         \u001b[0mcorrect\u001b[0m\u001b[1;33m,\u001b[0m\u001b[0mwrong\u001b[0m\u001b[1;33m=\u001b[0m\u001b[0mrecive\u001b[0m\u001b[1;33m(\u001b[0m\u001b[0mword\u001b[0m \u001b[1;33m,\u001b[0m \u001b[0mcorrect\u001b[0m \u001b[1;33m,\u001b[0m \u001b[0mwrong\u001b[0m\u001b[1;33m)\u001b[0m\u001b[1;33m\u001b[0m\u001b[1;33m\u001b[0m\u001b[0m\n\u001b[0m\u001b[0;32m     11\u001b[0m         \u001b[0mdisplay\u001b[0m\u001b[1;33m(\u001b[0m\u001b[0mword\u001b[0m\u001b[1;33m,\u001b[0m\u001b[0mwrong\u001b[0m\u001b[1;33m,\u001b[0m\u001b[0mcorrect\u001b[0m\u001b[1;33m,\u001b[0m\u001b[0mdescribe\u001b[0m\u001b[1;33m)\u001b[0m\u001b[1;33m\u001b[0m\u001b[1;33m\u001b[0m\u001b[0m\n\u001b[0;32m     12\u001b[0m         \u001b[1;32mif\u001b[0m \u001b[0mcheck_end\u001b[0m\u001b[1;33m(\u001b[0m\u001b[0mword\u001b[0m\u001b[1;33m,\u001b[0m \u001b[0mcorrect\u001b[0m\u001b[1;33m,\u001b[0m \u001b[0mwrong\u001b[0m\u001b[1;33m)\u001b[0m\u001b[1;33m:\u001b[0m\u001b[1;33m\u001b[0m\u001b[1;33m\u001b[0m\u001b[0m\n",
      "\u001b[1;32m<ipython-input-6-f9ef0ed83a84>\u001b[0m in \u001b[0;36mrecive\u001b[1;34m(word, corrects, wrongs)\u001b[0m\n\u001b[0;32m      9\u001b[0m     \u001b[0mword_splitted\u001b[0m \u001b[1;33m=\u001b[0m \u001b[1;33m[\u001b[0m\u001b[0ml\u001b[0m \u001b[1;32mfor\u001b[0m \u001b[0ml\u001b[0m \u001b[1;32min\u001b[0m \u001b[0mword\u001b[0m\u001b[1;33m]\u001b[0m\u001b[1;33m\u001b[0m\u001b[1;33m\u001b[0m\u001b[0m\n\u001b[0;32m     10\u001b[0m \u001b[1;33m\u001b[0m\u001b[0m\n\u001b[1;32m---> 11\u001b[1;33m     \u001b[0mletter\u001b[0m \u001b[1;33m=\u001b[0m \u001b[0minput\u001b[0m\u001b[1;33m(\u001b[0m\u001b[1;34m\"enter youre vaue: \"\u001b[0m\u001b[1;33m)\u001b[0m\u001b[1;33m.\u001b[0m\u001b[0mlower\u001b[0m\u001b[1;33m(\u001b[0m\u001b[1;33m)\u001b[0m\u001b[1;33m\u001b[0m\u001b[1;33m\u001b[0m\u001b[0m\n\u001b[0m\u001b[0;32m     12\u001b[0m     \u001b[1;32mwhile\u001b[0m \u001b[1;32mnot\u001b[0m \u001b[0mletter\u001b[0m \u001b[1;32min\u001b[0m \u001b[0malphabet\u001b[0m\u001b[1;33m:\u001b[0m\u001b[1;33m\u001b[0m\u001b[1;33m\u001b[0m\u001b[0m\n\u001b[0;32m     13\u001b[0m         \u001b[0mletter\u001b[0m \u001b[1;33m=\u001b[0m \u001b[0minput\u001b[0m\u001b[1;33m(\u001b[0m\u001b[1;34m\"enter youre vaue: \"\u001b[0m\u001b[1;33m)\u001b[0m\u001b[1;33m.\u001b[0m\u001b[0mlower\u001b[0m\u001b[1;33m(\u001b[0m\u001b[1;33m)\u001b[0m\u001b[1;33m\u001b[0m\u001b[1;33m\u001b[0m\u001b[0m\n",
      "\u001b[1;32m~\\anaconda3-NEW\\lib\\site-packages\\ipykernel\\kernelbase.py\u001b[0m in \u001b[0;36mraw_input\u001b[1;34m(self, prompt)\u001b[0m\n\u001b[0;32m    858\u001b[0m                 \u001b[1;34m\"raw_input was called, but this frontend does not support input requests.\"\u001b[0m\u001b[1;33m\u001b[0m\u001b[1;33m\u001b[0m\u001b[0m\n\u001b[0;32m    859\u001b[0m             )\n\u001b[1;32m--> 860\u001b[1;33m         return self._input_request(str(prompt),\n\u001b[0m\u001b[0;32m    861\u001b[0m             \u001b[0mself\u001b[0m\u001b[1;33m.\u001b[0m\u001b[0m_parent_ident\u001b[0m\u001b[1;33m,\u001b[0m\u001b[1;33m\u001b[0m\u001b[1;33m\u001b[0m\u001b[0m\n\u001b[0;32m    862\u001b[0m             \u001b[0mself\u001b[0m\u001b[1;33m.\u001b[0m\u001b[0m_parent_header\u001b[0m\u001b[1;33m,\u001b[0m\u001b[1;33m\u001b[0m\u001b[1;33m\u001b[0m\u001b[0m\n",
      "\u001b[1;32m~\\anaconda3-NEW\\lib\\site-packages\\ipykernel\\kernelbase.py\u001b[0m in \u001b[0;36m_input_request\u001b[1;34m(self, prompt, ident, parent, password)\u001b[0m\n\u001b[0;32m    902\u001b[0m             \u001b[1;32mexcept\u001b[0m \u001b[0mKeyboardInterrupt\u001b[0m\u001b[1;33m:\u001b[0m\u001b[1;33m\u001b[0m\u001b[1;33m\u001b[0m\u001b[0m\n\u001b[0;32m    903\u001b[0m                 \u001b[1;31m# re-raise KeyboardInterrupt, to truncate traceback\u001b[0m\u001b[1;33m\u001b[0m\u001b[1;33m\u001b[0m\u001b[1;33m\u001b[0m\u001b[0m\n\u001b[1;32m--> 904\u001b[1;33m                 \u001b[1;32mraise\u001b[0m \u001b[0mKeyboardInterrupt\u001b[0m\u001b[1;33m(\u001b[0m\u001b[1;34m\"Interrupted by user\"\u001b[0m\u001b[1;33m)\u001b[0m \u001b[1;32mfrom\u001b[0m \u001b[1;32mNone\u001b[0m\u001b[1;33m\u001b[0m\u001b[1;33m\u001b[0m\u001b[0m\n\u001b[0m\u001b[0;32m    905\u001b[0m             \u001b[1;32mexcept\u001b[0m \u001b[0mException\u001b[0m \u001b[1;32mas\u001b[0m \u001b[0me\u001b[0m\u001b[1;33m:\u001b[0m\u001b[1;33m\u001b[0m\u001b[1;33m\u001b[0m\u001b[0m\n\u001b[0;32m    906\u001b[0m                 \u001b[0mself\u001b[0m\u001b[1;33m.\u001b[0m\u001b[0mlog\u001b[0m\u001b[1;33m.\u001b[0m\u001b[0mwarning\u001b[0m\u001b[1;33m(\u001b[0m\u001b[1;34m\"Invalid Message:\"\u001b[0m\u001b[1;33m,\u001b[0m \u001b[0mexc_info\u001b[0m\u001b[1;33m=\u001b[0m\u001b[1;32mTrue\u001b[0m\u001b[1;33m)\u001b[0m\u001b[1;33m\u001b[0m\u001b[1;33m\u001b[0m\u001b[0m\n",
      "\u001b[1;31mKeyboardInterrupt\u001b[0m: Interrupted by user"
     ]
    }
   ],
   "source": [
    "main()"
   ]
  },
  {
   "cell_type": "code",
   "execution_count": null,
   "metadata": {},
   "outputs": [],
   "source": [
    "recive('empathetic' ,{} , [])"
   ]
  },
  {
   "cell_type": "code",
   "execution_count": null,
   "metadata": {},
   "outputs": [],
   "source": []
  }
 ],
 "metadata": {
  "kernelspec": {
   "display_name": "Python 3",
   "language": "python",
   "name": "python3"
  }
 },
 "nbformat": 4,
 "nbformat_minor": 4
}

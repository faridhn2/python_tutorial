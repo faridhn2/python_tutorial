{
 "cells": [
  {
   "cell_type": "markdown",
   "metadata": {},
   "source": [
    "# Filter, Map , Lambda "
   ]
  },
  {
   "cell_type": "markdown",
   "metadata": {},
   "source": [
    "map"
   ]
  },
  {
   "cell_type": "markdown",
   "metadata": {},
   "source": [
    "اعمال یک تابع بر یک دنباله"
   ]
  },
  {
   "cell_type": "code",
   "execution_count": 1,
   "metadata": {},
   "outputs": [],
   "source": [
    "def square(num):\n",
    "    return num**2"
   ]
  },
  {
   "cell_type": "code",
   "execution_count": 2,
   "metadata": {},
   "outputs": [],
   "source": [
    "mylist = [1,2,3,4,5]"
   ]
  },
  {
   "cell_type": "code",
   "execution_count": 3,
   "metadata": {},
   "outputs": [
    {
     "name": "stdout",
     "output_type": "stream",
     "text": [
      "1\n",
      "4\n",
      "9\n",
      "16\n",
      "25\n"
     ]
    }
   ],
   "source": [
    "for item in mylist:\n",
    "    print(square(item))"
   ]
  },
  {
   "cell_type": "code",
   "execution_count": 4,
   "metadata": {},
   "outputs": [
    {
     "ename": "TypeError",
     "evalue": "unsupported operand type(s) for ** or pow(): 'list' and 'int'",
     "output_type": "error",
     "traceback": [
      "\u001b[1;31m---------------------------------------------------------------------------\u001b[0m",
      "\u001b[1;31mTypeError\u001b[0m                                 Traceback (most recent call last)",
      "\u001b[1;32m<ipython-input-4-8fa1bac5b184>\u001b[0m in \u001b[0;36m<module>\u001b[1;34m\u001b[0m\n\u001b[1;32m----> 1\u001b[1;33m \u001b[0msquare\u001b[0m\u001b[1;33m(\u001b[0m\u001b[0mmylist\u001b[0m\u001b[1;33m)\u001b[0m\u001b[1;33m\u001b[0m\u001b[1;33m\u001b[0m\u001b[0m\n\u001b[0m",
      "\u001b[1;32m<ipython-input-1-a5c22640d10e>\u001b[0m in \u001b[0;36msquare\u001b[1;34m(num)\u001b[0m\n\u001b[0;32m      1\u001b[0m \u001b[1;32mdef\u001b[0m \u001b[0msquare\u001b[0m\u001b[1;33m(\u001b[0m\u001b[0mnum\u001b[0m\u001b[1;33m)\u001b[0m\u001b[1;33m:\u001b[0m\u001b[1;33m\u001b[0m\u001b[1;33m\u001b[0m\u001b[0m\n\u001b[1;32m----> 2\u001b[1;33m     \u001b[1;32mreturn\u001b[0m \u001b[0mnum\u001b[0m\u001b[1;33m**\u001b[0m\u001b[1;36m2\u001b[0m\u001b[1;33m\u001b[0m\u001b[1;33m\u001b[0m\u001b[0m\n\u001b[0m",
      "\u001b[1;31mTypeError\u001b[0m: unsupported operand type(s) for ** or pow(): 'list' and 'int'"
     ]
    }
   ],
   "source": [
    "square(mylist)"
   ]
  },
  {
   "cell_type": "code",
   "execution_count": 3,
   "metadata": {},
   "outputs": [
    {
     "data": {
      "text/plain": [
       "<map at 0x312b053af0>"
      ]
     },
     "execution_count": 3,
     "metadata": {},
     "output_type": "execute_result"
    }
   ],
   "source": [
    "map(square,mylist)"
   ]
  },
  {
   "cell_type": "code",
   "execution_count": 4,
   "metadata": {},
   "outputs": [
    {
     "data": {
      "text/plain": [
       "[1, 4, 9, 16, 25]"
      ]
     },
     "execution_count": 4,
     "metadata": {},
     "output_type": "execute_result"
    }
   ],
   "source": [
    "list(map(square,mylist))"
   ]
  },
  {
   "cell_type": "code",
   "execution_count": 5,
   "metadata": {},
   "outputs": [
    {
     "name": "stdout",
     "output_type": "stream",
     "text": [
      "1\n",
      "4\n",
      "9\n",
      "16\n",
      "25\n"
     ]
    }
   ],
   "source": [
    "for item in map(square,mylist):\n",
    "    print(item)"
   ]
  },
  {
   "cell_type": "code",
   "execution_count": 6,
   "metadata": {},
   "outputs": [
    {
     "data": {
      "text/plain": [
       "[1, 4, 9, 16, 25]"
      ]
     },
     "execution_count": 6,
     "metadata": {},
     "output_type": "execute_result"
    }
   ],
   "source": [
    "list(map(square,mylist))"
   ]
  },
  {
   "cell_type": "code",
   "execution_count": 7,
   "metadata": {},
   "outputs": [
    {
     "data": {
      "text/plain": [
       "['1', '2', '3', '4', '5']"
      ]
     },
     "execution_count": 7,
     "metadata": {},
     "output_type": "execute_result"
    }
   ],
   "source": [
    "s = '12345'\n",
    "list(s)"
   ]
  },
  {
   "cell_type": "code",
   "execution_count": 8,
   "metadata": {},
   "outputs": [
    {
     "data": {
      "text/plain": [
       "[1, 2, 3, 4, 5]"
      ]
     },
     "execution_count": 8,
     "metadata": {},
     "output_type": "execute_result"
    }
   ],
   "source": [
    "list(map(int,list(s)))"
   ]
  },
  {
   "cell_type": "markdown",
   "metadata": {},
   "source": [
    "filter"
   ]
  },
  {
   "cell_type": "markdown",
   "metadata": {},
   "source": [
    "بررسی توابع بولینی بر روی دنباله ها"
   ]
  },
  {
   "cell_type": "code",
   "execution_count": 9,
   "metadata": {},
   "outputs": [],
   "source": [
    "def splicer(mystring):\n",
    "    if len(mystring)%2==0:\n",
    "        return True\n",
    "    else:\n",
    "        return False"
   ]
  },
  {
   "cell_type": "code",
   "execution_count": 10,
   "metadata": {},
   "outputs": [],
   "source": [
    "mylist = ['Andy','Eve','Sally']"
   ]
  },
  {
   "cell_type": "code",
   "execution_count": 11,
   "metadata": {},
   "outputs": [
    {
     "data": {
      "text/plain": [
       "['Andy']"
      ]
     },
     "execution_count": 11,
     "metadata": {},
     "output_type": "execute_result"
    }
   ],
   "source": [
    "list(filter(splicer,mylist))"
   ]
  },
  {
   "cell_type": "code",
   "execution_count": 11,
   "metadata": {},
   "outputs": [],
   "source": [
    "def check_even(num):\n",
    "    return num%2==0"
   ]
  },
  {
   "cell_type": "code",
   "execution_count": 12,
   "metadata": {},
   "outputs": [],
   "source": [
    "mylist = [1,2,3,4,5,6]"
   ]
  },
  {
   "cell_type": "code",
   "execution_count": 13,
   "metadata": {},
   "outputs": [
    {
     "data": {
      "text/plain": [
       "[2, 4, 6]"
      ]
     },
     "execution_count": 13,
     "metadata": {},
     "output_type": "execute_result"
    }
   ],
   "source": [
    "list(filter(check_even,mylist))"
   ]
  },
  {
   "cell_type": "code",
   "execution_count": 15,
   "metadata": {},
   "outputs": [
    {
     "name": "stdout",
     "output_type": "stream",
     "text": [
      "2\n",
      "4\n",
      "6\n"
     ]
    }
   ],
   "source": [
    "list(filter(check_even,mylist))\n",
    "for item in filter(check_even,mylist):\n",
    "    print(item)"
   ]
  },
  {
   "cell_type": "markdown",
   "metadata": {},
   "source": [
    "lambda"
   ]
  },
  {
   "cell_type": "markdown",
   "metadata": {},
   "source": [
    "نوشتن تابع در یک خط"
   ]
  },
  {
   "cell_type": "code",
   "execution_count": 16,
   "metadata": {},
   "outputs": [],
   "source": [
    "def square(num): return num**2"
   ]
  },
  {
   "cell_type": "code",
   "execution_count": 17,
   "metadata": {},
   "outputs": [],
   "source": [
    "square = lambda num:num**2"
   ]
  },
  {
   "cell_type": "code",
   "execution_count": 18,
   "metadata": {},
   "outputs": [
    {
     "data": {
      "text/plain": [
       "<function __main__.<lambda>(num)>"
      ]
     },
     "execution_count": 18,
     "metadata": {},
     "output_type": "execute_result"
    }
   ],
   "source": [
    "square"
   ]
  },
  {
   "cell_type": "code",
   "execution_count": 19,
   "metadata": {},
   "outputs": [
    {
     "data": {
      "text/plain": [
       "[1, 4, 9, 16, 25, 36]"
      ]
     },
     "execution_count": 19,
     "metadata": {},
     "output_type": "execute_result"
    }
   ],
   "source": [
    "list(map(lambda num: num**2,mylist))"
   ]
  },
  {
   "cell_type": "code",
   "execution_count": 20,
   "metadata": {},
   "outputs": [
    {
     "data": {
      "text/plain": [
       "[2, 4, 6]"
      ]
     },
     "execution_count": 20,
     "metadata": {},
     "output_type": "execute_result"
    }
   ],
   "source": [
    "list(filter(lambda num: num%2==0,mylist))"
   ]
  },
  {
   "cell_type": "code",
   "execution_count": 21,
   "metadata": {},
   "outputs": [],
   "source": [
    "mylist = ['Andy','Eve','Sally']"
   ]
  },
  {
   "cell_type": "code",
   "execution_count": 22,
   "metadata": {},
   "outputs": [
    {
     "data": {
      "text/plain": [
       "['ydnA', 'evE', 'yllaS']"
      ]
     },
     "execution_count": 22,
     "metadata": {},
     "output_type": "execute_result"
    }
   ],
   "source": [
    "list(map(lambda x :x[::-1],mylist))"
   ]
  },
  {
   "cell_type": "code",
   "execution_count": 14,
   "metadata": {},
   "outputs": [],
   "source": [
    "text = 'Python is a high-level, general-purpose programming language. Its design philosophy emphasizes code readability with the use of significant indentation.[33] Python is dynamically typed and garbage-collected. It supports multiple programming paradigms, including structured (particularly procedural), object-oriented and functional programming. It is often described as a \"batteries included\" language due to its comprehensive standard library.[34][35] Guido van Rossum began working on Python in the late 1980s as a successor to the ABC programming language and first released it in 1991 as Python 0.9.0.[36] Python 2.0 was released in 2000. Python 3.0, released in 2008, was a major revision not completely backward-compatible with earlier versions. Python 2.7.18, released in 2020, was the last release of Python 2.[37] Python consistently ranks as one of the most popular programming languages'"
   ]
  },
  {
   "cell_type": "code",
   "execution_count": 15,
   "metadata": {},
   "outputs": [
    {
     "data": {
      "text/plain": [
       "'Python is a high-level, general-purpose programming language. Its design philosophy emphasizes code readability with the use of significant indentation.[33] Python is dynamically typed and garbage-collected. It supports multiple programming paradigms, including structured (particularly procedural), object-oriented and functional programming. It is often described as a \"batteries included\" language due to its comprehensive standard library.[34][35] Guido van Rossum began working on Python in the late 1980s as a successor to the ABC programming language and first released it in 1991 as Python 0.9.0.[36] Python 2.0 was released in 2000. Python 3.0, released in 2008, was a major revision not completely backward-compatible with earlier versions. Python 2.7.18, released in 2020, was the last release of Python 2.[37] Python consistently ranks as one of the most popular programming languages'"
      ]
     },
     "execution_count": 15,
     "metadata": {},
     "output_type": "execute_result"
    }
   ],
   "source": [
    "text"
   ]
  },
  {
   "cell_type": "code",
   "execution_count": 16,
   "metadata": {},
   "outputs": [],
   "source": [
    "d = {}\n",
    "for word in text.split():\n",
    "    if word in d:\n",
    "        d[word]+=1\n",
    "    else:\n",
    "        d[word]=1"
   ]
  },
  {
   "cell_type": "code",
   "execution_count": 17,
   "metadata": {},
   "outputs": [
    {
     "data": {
      "text/plain": [
       "{'Python': 9,\n",
       " 'is': 3,\n",
       " 'a': 4,\n",
       " 'high-level,': 1,\n",
       " 'general-purpose': 1,\n",
       " 'programming': 4,\n",
       " 'language.': 1,\n",
       " 'Its': 1,\n",
       " 'design': 1,\n",
       " 'philosophy': 1,\n",
       " 'emphasizes': 1,\n",
       " 'code': 1,\n",
       " 'readability': 1,\n",
       " 'with': 2,\n",
       " 'the': 5,\n",
       " 'use': 1,\n",
       " 'of': 3,\n",
       " 'significant': 1,\n",
       " 'indentation.[33]': 1,\n",
       " 'dynamically': 1,\n",
       " 'typed': 1,\n",
       " 'and': 3,\n",
       " 'garbage-collected.': 1,\n",
       " 'It': 2,\n",
       " 'supports': 1,\n",
       " 'multiple': 1,\n",
       " 'paradigms,': 1,\n",
       " 'including': 1,\n",
       " 'structured': 1,\n",
       " '(particularly': 1,\n",
       " 'procedural),': 1,\n",
       " 'object-oriented': 1,\n",
       " 'functional': 1,\n",
       " 'programming.': 1,\n",
       " 'often': 1,\n",
       " 'described': 1,\n",
       " 'as': 4,\n",
       " '\"batteries': 1,\n",
       " 'included\"': 1,\n",
       " 'language': 2,\n",
       " 'due': 1,\n",
       " 'to': 2,\n",
       " 'its': 1,\n",
       " 'comprehensive': 1,\n",
       " 'standard': 1,\n",
       " 'library.[34][35]': 1,\n",
       " 'Guido': 1,\n",
       " 'van': 1,\n",
       " 'Rossum': 1,\n",
       " 'began': 1,\n",
       " 'working': 1,\n",
       " 'on': 1,\n",
       " 'in': 5,\n",
       " 'late': 1,\n",
       " '1980s': 1,\n",
       " 'successor': 1,\n",
       " 'ABC': 1,\n",
       " 'first': 1,\n",
       " 'released': 4,\n",
       " 'it': 1,\n",
       " '1991': 1,\n",
       " '0.9.0.[36]': 1,\n",
       " '2.0': 1,\n",
       " 'was': 3,\n",
       " '2000.': 1,\n",
       " '3.0,': 1,\n",
       " '2008,': 1,\n",
       " 'major': 1,\n",
       " 'revision': 1,\n",
       " 'not': 1,\n",
       " 'completely': 1,\n",
       " 'backward-compatible': 1,\n",
       " 'earlier': 1,\n",
       " 'versions.': 1,\n",
       " '2.7.18,': 1,\n",
       " '2020,': 1,\n",
       " 'last': 1,\n",
       " 'release': 1,\n",
       " '2.[37]': 1,\n",
       " 'consistently': 1,\n",
       " 'ranks': 1,\n",
       " 'one': 1,\n",
       " 'most': 1,\n",
       " 'popular': 1,\n",
       " 'languages': 1}"
      ]
     },
     "execution_count": 17,
     "metadata": {},
     "output_type": "execute_result"
    }
   ],
   "source": [
    "d"
   ]
  },
  {
   "cell_type": "code",
   "execution_count": 18,
   "metadata": {},
   "outputs": [
    {
     "data": {
      "text/plain": [
       "[('\"batteries', 1),\n",
       " ('(particularly', 1),\n",
       " ('0.9.0.[36]', 1),\n",
       " ('1980s', 1),\n",
       " ('1991', 1),\n",
       " ('2.0', 1),\n",
       " ('2.7.18,', 1),\n",
       " ('2.[37]', 1),\n",
       " ('2000.', 1),\n",
       " ('2008,', 1),\n",
       " ('2020,', 1),\n",
       " ('3.0,', 1),\n",
       " ('ABC', 1),\n",
       " ('Guido', 1),\n",
       " ('It', 2),\n",
       " ('Its', 1),\n",
       " ('Python', 9),\n",
       " ('Rossum', 1),\n",
       " ('a', 4),\n",
       " ('and', 3),\n",
       " ('as', 4),\n",
       " ('backward-compatible', 1),\n",
       " ('began', 1),\n",
       " ('code', 1),\n",
       " ('completely', 1),\n",
       " ('comprehensive', 1),\n",
       " ('consistently', 1),\n",
       " ('described', 1),\n",
       " ('design', 1),\n",
       " ('due', 1),\n",
       " ('dynamically', 1),\n",
       " ('earlier', 1),\n",
       " ('emphasizes', 1),\n",
       " ('first', 1),\n",
       " ('functional', 1),\n",
       " ('garbage-collected.', 1),\n",
       " ('general-purpose', 1),\n",
       " ('high-level,', 1),\n",
       " ('in', 5),\n",
       " ('included\"', 1),\n",
       " ('including', 1),\n",
       " ('indentation.[33]', 1),\n",
       " ('is', 3),\n",
       " ('it', 1),\n",
       " ('its', 1),\n",
       " ('language', 2),\n",
       " ('language.', 1),\n",
       " ('languages', 1),\n",
       " ('last', 1),\n",
       " ('late', 1),\n",
       " ('library.[34][35]', 1),\n",
       " ('major', 1),\n",
       " ('most', 1),\n",
       " ('multiple', 1),\n",
       " ('not', 1),\n",
       " ('object-oriented', 1),\n",
       " ('of', 3),\n",
       " ('often', 1),\n",
       " ('on', 1),\n",
       " ('one', 1),\n",
       " ('paradigms,', 1),\n",
       " ('philosophy', 1),\n",
       " ('popular', 1),\n",
       " ('procedural),', 1),\n",
       " ('programming', 4),\n",
       " ('programming.', 1),\n",
       " ('ranks', 1),\n",
       " ('readability', 1),\n",
       " ('release', 1),\n",
       " ('released', 4),\n",
       " ('revision', 1),\n",
       " ('significant', 1),\n",
       " ('standard', 1),\n",
       " ('structured', 1),\n",
       " ('successor', 1),\n",
       " ('supports', 1),\n",
       " ('the', 5),\n",
       " ('to', 2),\n",
       " ('typed', 1),\n",
       " ('use', 1),\n",
       " ('van', 1),\n",
       " ('versions.', 1),\n",
       " ('was', 3),\n",
       " ('with', 2),\n",
       " ('working', 1)]"
      ]
     },
     "execution_count": 18,
     "metadata": {},
     "output_type": "execute_result"
    }
   ],
   "source": [
    "sorted(d.items())"
   ]
  },
  {
   "cell_type": "code",
   "execution_count": 19,
   "metadata": {},
   "outputs": [],
   "source": [
    "def func(x):\n",
    "    return x[1]"
   ]
  },
  {
   "cell_type": "code",
   "execution_count": 20,
   "metadata": {},
   "outputs": [
    {
     "data": {
      "text/plain": [
       "2"
      ]
     },
     "execution_count": 20,
     "metadata": {},
     "output_type": "execute_result"
    }
   ],
   "source": [
    "func([1,2])"
   ]
  },
  {
   "cell_type": "code",
   "execution_count": 21,
   "metadata": {},
   "outputs": [
    {
     "data": {
      "text/plain": [
       "[('Python', 9),\n",
       " ('the', 5),\n",
       " ('in', 5),\n",
       " ('a', 4),\n",
       " ('programming', 4),\n",
       " ('as', 4),\n",
       " ('released', 4),\n",
       " ('is', 3),\n",
       " ('of', 3),\n",
       " ('and', 3),\n",
       " ('was', 3),\n",
       " ('with', 2),\n",
       " ('It', 2),\n",
       " ('language', 2),\n",
       " ('to', 2),\n",
       " ('high-level,', 1),\n",
       " ('general-purpose', 1),\n",
       " ('language.', 1),\n",
       " ('Its', 1),\n",
       " ('design', 1),\n",
       " ('philosophy', 1),\n",
       " ('emphasizes', 1),\n",
       " ('code', 1),\n",
       " ('readability', 1),\n",
       " ('use', 1),\n",
       " ('significant', 1),\n",
       " ('indentation.[33]', 1),\n",
       " ('dynamically', 1),\n",
       " ('typed', 1),\n",
       " ('garbage-collected.', 1),\n",
       " ('supports', 1),\n",
       " ('multiple', 1),\n",
       " ('paradigms,', 1),\n",
       " ('including', 1),\n",
       " ('structured', 1),\n",
       " ('(particularly', 1),\n",
       " ('procedural),', 1),\n",
       " ('object-oriented', 1),\n",
       " ('functional', 1),\n",
       " ('programming.', 1),\n",
       " ('often', 1),\n",
       " ('described', 1),\n",
       " ('\"batteries', 1),\n",
       " ('included\"', 1),\n",
       " ('due', 1),\n",
       " ('its', 1),\n",
       " ('comprehensive', 1),\n",
       " ('standard', 1),\n",
       " ('library.[34][35]', 1),\n",
       " ('Guido', 1),\n",
       " ('van', 1),\n",
       " ('Rossum', 1),\n",
       " ('began', 1),\n",
       " ('working', 1),\n",
       " ('on', 1),\n",
       " ('late', 1),\n",
       " ('1980s', 1),\n",
       " ('successor', 1),\n",
       " ('ABC', 1),\n",
       " ('first', 1),\n",
       " ('it', 1),\n",
       " ('1991', 1),\n",
       " ('0.9.0.[36]', 1),\n",
       " ('2.0', 1),\n",
       " ('2000.', 1),\n",
       " ('3.0,', 1),\n",
       " ('2008,', 1),\n",
       " ('major', 1),\n",
       " ('revision', 1),\n",
       " ('not', 1),\n",
       " ('completely', 1),\n",
       " ('backward-compatible', 1),\n",
       " ('earlier', 1),\n",
       " ('versions.', 1),\n",
       " ('2.7.18,', 1),\n",
       " ('2020,', 1),\n",
       " ('last', 1),\n",
       " ('release', 1),\n",
       " ('2.[37]', 1),\n",
       " ('consistently', 1),\n",
       " ('ranks', 1),\n",
       " ('one', 1),\n",
       " ('most', 1),\n",
       " ('popular', 1),\n",
       " ('languages', 1)]"
      ]
     },
     "execution_count": 21,
     "metadata": {},
     "output_type": "execute_result"
    }
   ],
   "source": [
    "sorted(d.items(),key=func,reverse=True)"
   ]
  },
  {
   "cell_type": "code",
   "execution_count": 22,
   "metadata": {},
   "outputs": [
    {
     "data": {
      "text/plain": [
       "[('Python', 9),\n",
       " ('the', 5),\n",
       " ('in', 5),\n",
       " ('a', 4),\n",
       " ('programming', 4),\n",
       " ('as', 4),\n",
       " ('released', 4),\n",
       " ('is', 3),\n",
       " ('of', 3),\n",
       " ('and', 3),\n",
       " ('was', 3),\n",
       " ('with', 2),\n",
       " ('It', 2),\n",
       " ('language', 2),\n",
       " ('to', 2),\n",
       " ('high-level,', 1),\n",
       " ('general-purpose', 1),\n",
       " ('language.', 1),\n",
       " ('Its', 1),\n",
       " ('design', 1),\n",
       " ('philosophy', 1),\n",
       " ('emphasizes', 1),\n",
       " ('code', 1),\n",
       " ('readability', 1),\n",
       " ('use', 1),\n",
       " ('significant', 1),\n",
       " ('indentation.[33]', 1),\n",
       " ('dynamically', 1),\n",
       " ('typed', 1),\n",
       " ('garbage-collected.', 1),\n",
       " ('supports', 1),\n",
       " ('multiple', 1),\n",
       " ('paradigms,', 1),\n",
       " ('including', 1),\n",
       " ('structured', 1),\n",
       " ('(particularly', 1),\n",
       " ('procedural),', 1),\n",
       " ('object-oriented', 1),\n",
       " ('functional', 1),\n",
       " ('programming.', 1),\n",
       " ('often', 1),\n",
       " ('described', 1),\n",
       " ('\"batteries', 1),\n",
       " ('included\"', 1),\n",
       " ('due', 1),\n",
       " ('its', 1),\n",
       " ('comprehensive', 1),\n",
       " ('standard', 1),\n",
       " ('library.[34][35]', 1),\n",
       " ('Guido', 1),\n",
       " ('van', 1),\n",
       " ('Rossum', 1),\n",
       " ('began', 1),\n",
       " ('working', 1),\n",
       " ('on', 1),\n",
       " ('late', 1),\n",
       " ('1980s', 1),\n",
       " ('successor', 1),\n",
       " ('ABC', 1),\n",
       " ('first', 1),\n",
       " ('it', 1),\n",
       " ('1991', 1),\n",
       " ('0.9.0.[36]', 1),\n",
       " ('2.0', 1),\n",
       " ('2000.', 1),\n",
       " ('3.0,', 1),\n",
       " ('2008,', 1),\n",
       " ('major', 1),\n",
       " ('revision', 1),\n",
       " ('not', 1),\n",
       " ('completely', 1),\n",
       " ('backward-compatible', 1),\n",
       " ('earlier', 1),\n",
       " ('versions.', 1),\n",
       " ('2.7.18,', 1),\n",
       " ('2020,', 1),\n",
       " ('last', 1),\n",
       " ('release', 1),\n",
       " ('2.[37]', 1),\n",
       " ('consistently', 1),\n",
       " ('ranks', 1),\n",
       " ('one', 1),\n",
       " ('most', 1),\n",
       " ('popular', 1),\n",
       " ('languages', 1)]"
      ]
     },
     "execution_count": 22,
     "metadata": {},
     "output_type": "execute_result"
    }
   ],
   "source": [
    "sorted(d.items(),key=lambda x:x[1],reverse=True)"
   ]
  },
  {
   "cell_type": "code",
   "execution_count": 37,
   "metadata": {},
   "outputs": [],
   "source": [
    "x = {}"
   ]
  },
  {
   "cell_type": "code",
   "execution_count": 38,
   "metadata": {},
   "outputs": [],
   "source": [
    "x['a']=1"
   ]
  },
  {
   "cell_type": "code",
   "execution_count": 39,
   "metadata": {},
   "outputs": [
    {
     "data": {
      "text/plain": [
       "{'a': 1}"
      ]
     },
     "execution_count": 39,
     "metadata": {},
     "output_type": "execute_result"
    }
   ],
   "source": [
    "x"
   ]
  },
  {
   "cell_type": "code",
   "execution_count": null,
   "metadata": {},
   "outputs": [],
   "source": []
  }
 ],
 "metadata": {
  "kernelspec": {
   "display_name": "Python 3",
   "language": "python",
   "name": "python3"
  },
  "language_info": {
   "codemirror_mode": {
    "name": "ipython",
    "version": 3
   },
   "file_extension": ".py",
   "mimetype": "text/x-python",
   "name": "python",
   "nbconvert_exporter": "python",
   "pygments_lexer": "ipython3",
   "version": "3.8.5"
  }
 },
 "nbformat": 4,
 "nbformat_minor": 4
}

{
 "cells": [
  {
   "cell_type": "markdown",
   "metadata": {},
   "source": [
    "# تمرین "
   ]
  },
  {
   "cell_type": "code",
   "execution_count": 5,
   "metadata": {},
   "outputs": [],
   "source": [
    "st = 'Print only the words that start with S in this sentence'"
   ]
  },
  {
   "cell_type": "markdown",
   "metadata": {},
   "source": [
    "کلماتی که در آن حرف "
   ]
  },
  {
   "cell_type": "markdown",
   "metadata": {},
   "source": [
    "   وجود دارد را پرینت کن (s)"
   ]
  },
  {
   "cell_type": "markdown",
   "metadata": {},
   "source": [
    "** split , if , for"
   ]
  },
  {
   "cell_type": "code",
   "execution_count": 7,
   "metadata": {},
   "outputs": [
    {
     "name": "stdout",
     "output_type": "stream",
     "text": [
      "words\n",
      "start\n",
      "this\n",
      "sentence\n"
     ]
    }
   ],
   "source": [
    "list1=st.split(\" \")\n",
    "for i in list1:\n",
    "    if \"s\" in i:\n",
    "        print(i)\n",
    "    else:\n",
    "        continue"
   ]
  },
  {
   "cell_type": "code",
   "execution_count": 10,
   "metadata": {},
   "outputs": [
    {
     "data": {
      "text/plain": [
       "['words', 'start', 'S', 'this', 'sentence']"
      ]
     },
     "execution_count": 10,
     "metadata": {},
     "output_type": "execute_result"
    }
   ],
   "source": [
    "list1=[i for i in st.split() if \"s\" in i.lower() ]\n",
    "list1"
   ]
  },
  {
   "cell_type": "markdown",
   "metadata": {},
   "source": [
    "تمام اعداد زوج بین 0 تا 10 را نمایش بده"
   ]
  },
  {
   "cell_type": "markdown",
   "metadata": {},
   "source": [
    "range()"
   ]
  },
  {
   "cell_type": "code",
   "execution_count": 12,
   "metadata": {},
   "outputs": [
    {
     "data": {
      "text/plain": [
       "[0, 2, 4, 6, 8, 10]"
      ]
     },
     "execution_count": 12,
     "metadata": {},
     "output_type": "execute_result"
    }
   ],
   "source": [
    "list(range(0,11,2))"
   ]
  },
  {
   "cell_type": "code",
   "execution_count": 13,
   "metadata": {},
   "outputs": [
    {
     "data": {
      "text/plain": [
       "[0, 2, 4, 6, 8, 10]"
      ]
     },
     "execution_count": 13,
     "metadata": {},
     "output_type": "execute_result"
    }
   ],
   "source": [
    "[i for i in range(11) if i%2==0]"
   ]
  },
  {
   "cell_type": "code",
   "execution_count": 14,
   "metadata": {},
   "outputs": [
    {
     "name": "stdout",
     "output_type": "stream",
     "text": [
      "0\n",
      "2\n",
      "4\n",
      "6\n",
      "8\n",
      "10\n"
     ]
    }
   ],
   "source": [
    "for i in range(11):\n",
    "    if i %2==0:\n",
    "        print(i)"
   ]
  },
  {
   "cell_type": "markdown",
   "metadata": {},
   "source": [
    "با استفاده از لیست دنباله ای بین 1 تا 50 ایجاد کنید که به 3 بخش پذیر باشند"
   ]
  },
  {
   "cell_type": "code",
   "execution_count": 17,
   "metadata": {},
   "outputs": [
    {
     "data": {
      "text/plain": [
       "[3, 6, 9, 12, 15, 18, 21, 24, 27, 30, 33, 36, 39, 42, 45, 48]"
      ]
     },
     "execution_count": 17,
     "metadata": {},
     "output_type": "execute_result"
    }
   ],
   "source": [
    "my_list=[]\n",
    "for i in range(2,50):\n",
    "    if (i%3==0):\n",
    "        my_list.append(i) \n",
    "my_list        \n",
    "        \n"
   ]
  },
  {
   "cell_type": "code",
   "execution_count": 18,
   "metadata": {},
   "outputs": [
    {
     "data": {
      "text/plain": [
       "[3, 6, 9, 12, 15, 18, 21, 24, 27, 30, 33, 36, 39, 42, 45, 48]"
      ]
     },
     "execution_count": 18,
     "metadata": {},
     "output_type": "execute_result"
    }
   ],
   "source": [
    "my_list=[i for i in range(2,50) if i%3==0]\n",
    "my_list"
   ]
  },
  {
   "cell_type": "markdown",
   "metadata": {},
   "source": [
    "کلماتی که در متن فوق تعداد کاراکتر زوج دارند را نمایش دهید."
   ]
  },
  {
   "cell_type": "code",
   "execution_count": 21,
   "metadata": {},
   "outputs": [
    {
     "data": {
      "text/plain": [
       "['only', 'that', 'with', 'in', 'this', 'sentence']"
      ]
     },
     "execution_count": 21,
     "metadata": {},
     "output_type": "execute_result"
    }
   ],
   "source": [
    "list2=[i for i in st.split() if(len(i)%2==0)]\n",
    "list2"
   ]
  },
  {
   "cell_type": "code",
   "execution_count": 22,
   "metadata": {},
   "outputs": [
    {
     "data": {
      "text/plain": [
       "['only', 'that', 'with', 'in', 'this', 'sentence']"
      ]
     },
     "execution_count": 22,
     "metadata": {},
     "output_type": "execute_result"
    }
   ],
   "source": [
    "list3=[]\n",
    "for i in st.split():\n",
    "    if(len(i)%2==0):\n",
    "        list3.append(i)\n",
    "list3"
   ]
  },
  {
   "cell_type": "markdown",
   "metadata": {},
   "source": [
    "برنامه ای بنویسید که اعداد بین 0 تا 100 را در یک لیست تو در تو یک بار 5 تا 5 تا و یک بار ه تا سه تا پرینت کند"
   ]
  },
  {
   "cell_type": "code",
   "execution_count": 23,
   "metadata": {},
   "outputs": [
    {
     "data": {
      "text/plain": [
       "[[1, 2, 3, 4, 5],\n",
       " [6, 7, 8, 9, 10],\n",
       " [11, 12, 13, 14, 15],\n",
       " [16, 17, 18, 19, 20],\n",
       " [21, 22, 23, 24, 25],\n",
       " [26, 27, 28, 29, 30],\n",
       " [31, 32, 33, 34, 35],\n",
       " [36, 37, 38, 39, 40],\n",
       " [41, 42, 43, 44, 45],\n",
       " [46, 47, 48, 49, 50],\n",
       " [51, 52, 53, 54, 55],\n",
       " [56, 57, 58, 59, 60],\n",
       " [61, 62, 63, 64, 65],\n",
       " [66, 67, 68, 69, 70],\n",
       " [71, 72, 73, 74, 75],\n",
       " [76, 77, 78, 79, 80],\n",
       " [81, 82, 83, 84, 85],\n",
       " [86, 87, 88, 89, 90],\n",
       " [91, 92, 93, 94, 95],\n",
       " [96, 97, 98, 99, 100]]"
      ]
     },
     "execution_count": 23,
     "metadata": {},
     "output_type": "execute_result"
    }
   ],
   "source": [
    "f_list=[]\n",
    "for i in range(1,100,5):\n",
    "    s_list=[]\n",
    "    for j in range(i,i+5):\n",
    "        s_list.append(j)\n",
    "    f_list.append(s_list)\n",
    "f_list"
   ]
  },
  {
   "cell_type": "code",
   "execution_count": 30,
   "metadata": {},
   "outputs": [
    {
     "data": {
      "text/plain": [
       "[[1, 2, 3, 4, 5],\n",
       " [6, 7, 8, 9, 10],\n",
       " [11, 12, 13, 14, 15],\n",
       " [16, 17, 18, 19, 20],\n",
       " [21, 22, 23, 24, 25],\n",
       " [26, 27, 28, 29, 30],\n",
       " [31, 32, 33, 34, 35],\n",
       " [36, 37, 38, 39, 40],\n",
       " [41, 42, 43, 44, 45],\n",
       " [46, 47, 48, 49, 50],\n",
       " [51, 52, 53, 54, 55],\n",
       " [56, 57, 58, 59, 60],\n",
       " [61, 62, 63, 64, 65],\n",
       " [66, 67, 68, 69, 70],\n",
       " [71, 72, 73, 74, 75],\n",
       " [76, 77, 78, 79, 80],\n",
       " [81, 82, 83, 84, 85],\n",
       " [86, 87, 88, 89, 90],\n",
       " [91, 92, 93, 94, 95],\n",
       " [96, 97, 98, 99, 100]]"
      ]
     },
     "execution_count": 30,
     "metadata": {},
     "output_type": "execute_result"
    }
   ],
   "source": [
    "mylist=[[x+i for i in range(5)] for x in range(1,100,5)]\n",
    "mylist"
   ]
  },
  {
   "cell_type": "code",
   "execution_count": 29,
   "metadata": {},
   "outputs": [
    {
     "data": {
      "text/plain": [
       "[[1, 2, 3, 4, 5],\n",
       " [6, 7, 8, 9, 10],\n",
       " [11, 12, 13, 14, 15],\n",
       " [16, 17, 18, 19, 20],\n",
       " [21, 22, 23, 24, 25],\n",
       " [26, 27, 28, 29, 30],\n",
       " [31, 32, 33, 34, 35],\n",
       " [36, 37, 38, 39, 40],\n",
       " [41, 42, 43, 44, 45],\n",
       " [46, 47, 48, 49, 50],\n",
       " [51, 52, 53, 54, 55],\n",
       " [56, 57, 58, 59, 60],\n",
       " [61, 62, 63, 64, 65],\n",
       " [66, 67, 68, 69, 70],\n",
       " [71, 72, 73, 74, 75],\n",
       " [76, 77, 78, 79, 80],\n",
       " [81, 82, 83, 84, 85],\n",
       " [86, 87, 88, 89, 90],\n",
       " [91, 92, 93, 94, 95],\n",
       " [96, 97, 98, 99, 100]]"
      ]
     },
     "execution_count": 29,
     "metadata": {},
     "output_type": "execute_result"
    }
   ],
   "source": [
    "f_list=[]\n",
    "for i in range(0,100,1):\n",
    "    if(i%5 == 0):\n",
    "        s_list=[]\n",
    "        for j in range(i+1,i+6):\n",
    "            s_list.append(j)\n",
    "        f_list.append(s_list)\n",
    "f_list"
   ]
  },
  {
   "cell_type": "code",
   "execution_count": 38,
   "metadata": {},
   "outputs": [
    {
     "name": "stdout",
     "output_type": "stream",
     "text": [
      "5\n"
     ]
    },
    {
     "data": {
      "text/plain": [
       "[[1, 2, 3, 4, 5],\n",
       " [6, 7, 8, 9, 10],\n",
       " [11, 12, 13, 14, 15],\n",
       " [16, 17, 18, 19, 20],\n",
       " [21, 22, 23, 24, 25],\n",
       " [26, 27, 28, 29, 30],\n",
       " [31, 32, 33, 34, 35],\n",
       " [36, 37, 38, 39, 40],\n",
       " [41, 42, 43, 44, 45],\n",
       " [46, 47, 48, 49, 50],\n",
       " [51, 52, 53, 54, 55],\n",
       " [56, 57, 58, 59, 60],\n",
       " [61, 62, 63, 64, 65],\n",
       " [66, 67, 68, 69, 70],\n",
       " [71, 72, 73, 74, 75],\n",
       " [76, 77, 78, 79, 80],\n",
       " [81, 82, 83, 84, 85],\n",
       " [86, 87, 88, 89, 90],\n",
       " [91, 92, 93, 94, 95],\n",
       " [96, 97, 98, 99, 100]]"
      ]
     },
     "execution_count": 38,
     "metadata": {},
     "output_type": "execute_result"
    }
   ],
   "source": [
    "numList = list(range(101))\n",
    "newList=[]\n",
    "n = int(input())\n",
    "for i in range(0,100,n):\n",
    "    newList.append(numList[i+1:i+n+1])\n",
    "newList"
   ]
  },
  {
   "cell_type": "code",
   "execution_count": 37,
   "metadata": {},
   "outputs": [
    {
     "data": {
      "text/plain": [
       "[[1, 2, 3, 4, 5],\n",
       " [6, 7, 8, 9, 10],\n",
       " [11, 12, 13, 14, 15],\n",
       " [16, 17, 18, 19, 20],\n",
       " [21, 22, 23, 24, 25],\n",
       " [26, 27, 28, 29, 30],\n",
       " [31, 32, 33, 34, 35],\n",
       " [36, 37, 38, 39, 40],\n",
       " [41, 42, 43, 44, 45],\n",
       " [46, 47, 48, 49, 50],\n",
       " [51, 52, 53, 54, 55],\n",
       " [56, 57, 58, 59, 60],\n",
       " [61, 62, 63, 64, 65],\n",
       " [66, 67, 68, 69, 70],\n",
       " [71, 72, 73, 74, 75],\n",
       " [76, 77, 78, 79, 80],\n",
       " [81, 82, 83, 84, 85],\n",
       " [86, 87, 88, 89, 90],\n",
       " [91, 92, 93, 94, 95],\n",
       " [96, 97, 98, 99, 100]]"
      ]
     },
     "execution_count": 37,
     "metadata": {},
     "output_type": "execute_result"
    }
   ],
   "source": [
    "[numList[i+1:i+n+1] for i in range(0,100,n)]"
   ]
  },
  {
   "cell_type": "markdown",
   "metadata": {},
   "source": [
    "با توجه به متن تست لیستی را ایجاد کنید که شامل حروف اول هر کلمه باشد"
   ]
  },
  {
   "cell_type": "code",
   "execution_count": null,
   "metadata": {},
   "outputs": [],
   "source": []
  }
 ],
 "metadata": {
  "kernelspec": {
   "display_name": "Python 3",
   "language": "python",
   "name": "python3"
  },
  "language_info": {
   "codemirror_mode": {
    "name": "ipython",
    "version": 3
   },
   "file_extension": ".py",
   "mimetype": "text/x-python",
   "name": "python",
   "nbconvert_exporter": "python",
   "pygments_lexer": "ipython3",
   "version": "3.8.5"
  }
 },
 "nbformat": 4,
 "nbformat_minor": 4
}

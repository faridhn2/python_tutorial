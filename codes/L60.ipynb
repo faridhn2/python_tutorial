{
 "cells": [
  {
   "cell_type": "markdown",
   "metadata": {},
   "source": [
    "ماژول رندم و شافل و ساختن کارت ها "
   ]
  },
  {
   "cell_type": "code",
   "execution_count": 1,
   "metadata": {},
   "outputs": [],
   "source": [
    "suits=('Hearts','Diamonds','Spads','Clube')\n",
    "ranks=('Two','Three','Four','Five','Six','Seven','Eight','Nine','Ten','Jack','Queen','King','Ace')\n",
    "values = {'Two':2,'Three':3,'Four':4,'Five':5,'Six':6,'Seven':7,'Eight':8,\n",
    "          'Nine':9,'Ten':10,'Jack':10,'Queen':10,'King':10,'Ace':11}\n",
    "import random\n",
    "playing = True"
   ]
  },
  {
   "cell_type": "markdown",
   "metadata": {},
   "source": [
    "ساختن کلاس کارت"
   ]
  },
  {
   "cell_type": "code",
   "execution_count": 2,
   "metadata": {},
   "outputs": [],
   "source": [
    "class Card:\n",
    "    def __init__(self,suit,rank):\n",
    "        self.suit = suit\n",
    "        self.rank= rank\n",
    "    def __str__(self):\n",
    "        return self.rank +' of '+self.suit"
   ]
  },
  {
   "cell_type": "markdown",
   "metadata": {},
   "source": [
    "ساختن کلاس دسته"
   ]
  },
  {
   "cell_type": "code",
   "execution_count": 3,
   "metadata": {},
   "outputs": [],
   "source": [
    "class Deck:\n",
    "    def __init__(self):\n",
    "        self.deck = []\n",
    "        for suit in suits:\n",
    "            for rank in ranks:\n",
    "                self.deck.append(Card(suit,rank))\n",
    "    def __str__(self):\n",
    "        deck_comp=''\n",
    "        for card in self.deck:\n",
    "            deck_comp+='\\n'+card.__str__()\n",
    "        return \"The deck has: \"+deck_comp\n",
    "\n",
    "    def shuffle(self):\n",
    "        random.shuffle(self.deck)\n",
    "\n",
    "    def deal(self):\n",
    "        single_card = self.deck.pop()\n",
    "        return single_card\n",
    "\n",
    "            \n",
    "            \n",
    "            \n",
    "            \n",
    "            \n",
    "            "
   ]
  },
  {
   "cell_type": "code",
   "execution_count": 4,
   "metadata": {},
   "outputs": [],
   "source": [
    "test_deck = Deck()"
   ]
  },
  {
   "cell_type": "code",
   "execution_count": 6,
   "metadata": {},
   "outputs": [],
   "source": [
    "test_deck.shuffle()"
   ]
  },
  {
   "cell_type": "code",
   "execution_count": 7,
   "metadata": {},
   "outputs": [
    {
     "name": "stdout",
     "output_type": "stream",
     "text": [
      "The deck has: \n",
      "Nine of Hearts\n",
      "Nine of Clube\n",
      "Four of Hearts\n",
      "Eight of Spads\n",
      "Seven of Diamonds\n",
      "Ace of Clube\n",
      "Five of Spads\n",
      "Queen of Hearts\n",
      "King of Clube\n",
      "Five of Clube\n",
      "Four of Diamonds\n",
      "Eight of Hearts\n",
      "Eight of Clube\n",
      "Queen of Diamonds\n",
      "Queen of Clube\n",
      "Six of Hearts\n",
      "Five of Hearts\n",
      "Jack of Diamonds\n",
      "Ace of Diamonds\n",
      "Ten of Clube\n",
      "Seven of Clube\n",
      "Two of Spads\n",
      "Six of Spads\n",
      "King of Spads\n",
      "Two of Diamonds\n",
      "Ace of Hearts\n",
      "Two of Hearts\n",
      "Six of Diamonds\n",
      "Eight of Diamonds\n",
      "Seven of Hearts\n",
      "Nine of Spads\n",
      "King of Diamonds\n",
      "Ace of Spads\n",
      "Two of Clube\n",
      "Ten of Spads\n",
      "Nine of Diamonds\n",
      "Six of Clube\n",
      "Jack of Clube\n",
      "Jack of Hearts\n",
      "King of Hearts\n",
      "Three of Clube\n",
      "Three of Hearts\n",
      "Queen of Spads\n",
      "Ten of Hearts\n",
      "Five of Diamonds\n",
      "Four of Spads\n",
      "Four of Clube\n",
      "Seven of Spads\n",
      "Three of Diamonds\n",
      "Ten of Diamonds\n",
      "Three of Spads\n",
      "Jack of Spads\n"
     ]
    }
   ],
   "source": [
    "print(test_deck)"
   ]
  },
  {
   "cell_type": "code",
   "execution_count": 9,
   "metadata": {},
   "outputs": [],
   "source": [
    "class Hand:\n",
    "    def __init__(self):\n",
    "        self.cards = []\n",
    "        self.value = 0\n",
    "        self.aces = 0\n",
    "    \n",
    "    def add_card(self,card):\n",
    "        self.cards.append(card)\n",
    "        self.value +=values[card.rank]\n",
    "        if card.rank == 'Ace':\n",
    "            self.aces +=1\n",
    "    \n",
    "    def adjust_for_aces(self):\n",
    "        while self.value>21 and self.aces>0:\n",
    "            self.value-=10\n",
    "            self.aces-=1"
   ]
  },
  {
   "cell_type": "code",
   "execution_count": 13,
   "metadata": {},
   "outputs": [
    {
     "name": "stdout",
     "output_type": "stream",
     "text": [
      "True\n",
      "Nine of Clube\n",
      "9\n",
      "19\n"
     ]
    }
   ],
   "source": [
    "if 2:\n",
    "    print('True')\n",
    "test_deck = Deck()\n",
    "test_deck.shuffle()\n",
    "test_player = Hand()\n",
    "pulled_card = test_deck.deal()\n",
    "print(pulled_card)\n",
    "test_player.add_card(pulled_card)\n",
    "print(test_player.value)\n",
    "test_player.add_card(test_deck.deal())\n",
    "print(test_player.value)"
   ]
  },
  {
   "cell_type": "code",
   "execution_count": 14,
   "metadata": {},
   "outputs": [],
   "source": [
    "class Chips:\n",
    "    def __init__(self,total=100):\n",
    "        self.total = total\n",
    "        self.bet = 0\n",
    "    def win_bet(self):\n",
    "        self.total+=self.bet\n",
    "    def lose_bet(self):\n",
    "        self.total-=self.bet\n",
    "    "
   ]
  },
  {
   "cell_type": "markdown",
   "metadata": {},
   "source": [
    "تابع گرفتن شرط بندی"
   ]
  },
  {
   "cell_type": "code",
   "execution_count": 15,
   "metadata": {},
   "outputs": [],
   "source": [
    "def take_bet(chips):\n",
    "    while True:\n",
    "        try:\n",
    "            chips.bet = int(input('How many chips would you like to bet?'))\n",
    "        except ValueError:\n",
    "            print('Sorry, abet must be an integer')\n",
    "        else:\n",
    "            if chips.bet> chips.total:\n",
    "                print('Sorry, Yout bet can not exceed')\n",
    "            else:\n",
    "                break"
   ]
  },
  {
   "cell_type": "markdown",
   "metadata": {},
   "source": [
    "تابع درخواست کارت "
   ]
  },
  {
   "cell_type": "code",
   "execution_count": 16,
   "metadata": {},
   "outputs": [],
   "source": [
    "def hit(deck, hand):\n",
    "    single_card = deck.deal()\n",
    "    hand.add_card(single_card)\n",
    "    hand.adjust_for_aces()\n",
    "    "
   ]
  },
  {
   "cell_type": "markdown",
   "metadata": {},
   "source": [
    "تابع تصمیم برای ادامه بازی یا توقف روند کارت گیری"
   ]
  },
  {
   "cell_type": "code",
   "execution_count": 17,
   "metadata": {},
   "outputs": [],
   "source": [
    "def hit_or_stand(deck,hand):\n",
    "    global playing\n",
    "    while True:\n",
    "        x = input('Hit or Stand? Enter h or s')\n",
    "        if x[0].lower()=='h':\n",
    "            hit(deck,hand)\n",
    "        elif  x[0].lower()=='s':\n",
    "            print('player stands Dealers Turn')\n",
    "            playing = False\n",
    "        else:\n",
    "            print(\"sorry I did not Understand. Enter s or h\")\n",
    "            continue\n",
    "        break"
   ]
  },
  {
   "cell_type": "markdown",
   "metadata": {},
   "source": [
    "توابع بررسی اتمام بازی"
   ]
  },
  {
   "cell_type": "code",
   "execution_count": 18,
   "metadata": {},
   "outputs": [],
   "source": [
    "def show_some(player,dealer):\n",
    "    print('Dealers hand: ')\n",
    "    print('One card hidden')\n",
    "    print(dealer.cards[1])\n",
    "    print('\\n')\n",
    "    print('Player Hand: ')\n",
    "    for card in player.cards:\n",
    "        print(card)\n",
    "    "
   ]
  },
  {
   "cell_type": "code",
   "execution_count": 19,
   "metadata": {},
   "outputs": [],
   "source": [
    "def show_all(player,dealer):\n",
    "    print('Dealers hand: ')\n",
    "    for card in dealer.cards:\n",
    "        print(card)\n",
    "    \n",
    "    print('\\n')\n",
    "    print('Player Hand: ')\n",
    "    for card in player.cards:\n",
    "        print(card)\n",
    "    "
   ]
  },
  {
   "cell_type": "code",
   "execution_count": 15,
   "metadata": {},
   "outputs": [],
   "source": [
    "def player_busts(player,dealer,chips):\n",
    "    print('Bust Player')\n",
    "    chips.lose_bet()\n",
    "    "
   ]
  },
  {
   "cell_type": "code",
   "execution_count": 20,
   "metadata": {},
   "outputs": [],
   "source": [
    "def player_wins(player,dealer,chips):\n",
    "    print('Player Win')\n",
    "    chips.win_bet()\n",
    "    "
   ]
  },
  {
   "cell_type": "code",
   "execution_count": 21,
   "metadata": {},
   "outputs": [],
   "source": [
    "def dealer_busts(player,dealer,chips):\n",
    "    print('Player Win, Dealer Busted')\n",
    "    chips.win_bet()\n",
    "    "
   ]
  },
  {
   "cell_type": "code",
   "execution_count": 22,
   "metadata": {},
   "outputs": [],
   "source": [
    "def dealer_wins(player,dealer,chips):\n",
    "    print('Dealer Wins')\n",
    "    chips.lose_bet()\n",
    "    "
   ]
  },
  {
   "cell_type": "code",
   "execution_count": 23,
   "metadata": {},
   "outputs": [],
   "source": [
    "def push(player,dealer):\n",
    "    print('Dealer and player tie! push')"
   ]
  },
  {
   "cell_type": "markdown",
   "metadata": {},
   "source": [
    "بلوک اصلی\n"
   ]
  },
  {
   "cell_type": "code",
   "execution_count": 21,
   "metadata": {},
   "outputs": [
    {
     "name": "stdout",
     "output_type": "stream",
     "text": [
      "welcome to Black Jack\n",
      "How many chips would you like to bet?10\n",
      "Dealers hand: \n",
      "One card hidden\n",
      "Queen of Hearts\n",
      "\n",
      "\n",
      "Player Hand: \n",
      "Three of Diamonds\n",
      "Two of Hearts\n",
      "Dealers hand: \n",
      "Two of Diamonds\n",
      "Queen of Hearts\n",
      "\n",
      "\n",
      "Player Hand: \n",
      "Three of Diamonds\n",
      "Two of Hearts\n",
      "Dealer Wins\n",
      "\n",
      " player total chips are at 90\n",
      "Would you like to play another hand? y or ny\n",
      "welcome to Black Jack\n",
      "How many chips would you like to bet?10\n",
      "Dealers hand: \n",
      "One card hidden\n",
      "Six of Diamonds\n",
      "\n",
      "\n",
      "Player Hand: \n",
      "Jack of Diamonds\n",
      "Nine of Clube\n",
      "Hit or Stand? Enter  or ss\n",
      "player stands Dealers Turn\n",
      "Dealers hand: \n",
      "One card hidden\n",
      "Six of Diamonds\n",
      "\n",
      "\n",
      "Player Hand: \n",
      "Jack of Diamonds\n",
      "Nine of Clube\n",
      "Dealers hand: \n",
      "Ten of Hearts\n",
      "Six of Diamonds\n",
      "Five of Spads\n",
      "\n",
      "\n",
      "Player Hand: \n",
      "Jack of Diamonds\n",
      "Nine of Clube\n",
      "Dealer Wins\n",
      "\n",
      " player total chips are at 90\n",
      "Would you like to play another hand? y or ny\n",
      "welcome to Black Jack\n",
      "How many chips would you like to bet?10\n",
      "Dealers hand: \n",
      "One card hidden\n",
      "Ten of Clube\n",
      "\n",
      "\n",
      "Player Hand: \n",
      "Two of Diamonds\n",
      "Ten of Spads\n",
      "Hit or Stand? Enter  or sh\n",
      "Dealers hand: \n",
      "One card hidden\n",
      "Ten of Clube\n",
      "\n",
      "\n",
      "Player Hand: \n",
      "Two of Diamonds\n",
      "Ten of Spads\n",
      "Four of Diamonds\n",
      "Hit or Stand? Enter  or sh\n",
      "Dealers hand: \n",
      "One card hidden\n",
      "Ten of Clube\n",
      "\n",
      "\n",
      "Player Hand: \n",
      "Two of Diamonds\n",
      "Ten of Spads\n",
      "Four of Diamonds\n",
      "Ace of Clube\n",
      "Hit or Stand? Enter  or ss\n",
      "player stands Dealers Turn\n",
      "Dealers hand: \n",
      "One card hidden\n",
      "Ten of Clube\n",
      "\n",
      "\n",
      "Player Hand: \n",
      "Two of Diamonds\n",
      "Ten of Spads\n",
      "Four of Diamonds\n",
      "Ace of Clube\n",
      "Dealers hand: \n",
      "Five of Clube\n",
      "Ten of Clube\n",
      "Ace of Hearts\n",
      "Queen of Clube\n",
      "\n",
      "\n",
      "Player Hand: \n",
      "Two of Diamonds\n",
      "Ten of Spads\n",
      "Four of Diamonds\n",
      "Ace of Clube\n",
      "Player Win, Dealer Busted\n",
      "\n",
      " player total chips are at 110\n",
      "Would you like to play another hand? y or nn\n",
      "Thanks for playing\n"
     ]
    }
   ],
   "source": [
    "while True:\n",
    "    print('welcome to Black Jack')\n",
    "    deck = Deck()\n",
    "    deck.shuffle()\n",
    "    player_hand = Hand()\n",
    "    player_hand.add_card(deck.deal())\n",
    "    player_hand.add_card(deck.deal())\n",
    "    dealer_hand = Hand()\n",
    "    dealer_hand.add_card(deck.deal())\n",
    "    dealer_hand.add_card(deck.deal())\n",
    "    player_chips = Chips()\n",
    "    take_bet(player_chips)\n",
    "    show_some(player_hand,dealer_hand)\n",
    "    while playing:\n",
    "        hit_or_stand(deck,player_hand)\n",
    "        show_some(player_hand,dealer_hand)\n",
    "        if player_hand.value>21:\n",
    "            player_busts(player_hand,dealer_hand,player_chips)\n",
    "            break\n",
    "    if player_hand.value<=21:\n",
    "        while dealer_hand.value<player_hand.value:\n",
    "            hit(deck,dealer_hand)\n",
    "        show_all(player_hand,dealer_hand)\n",
    "        if dealer_hand.value>21:\n",
    "            dealer_busts(player_hand,dealer_hand,player_chips)\n",
    "        elif dealer_hand.value>player_hand.value:\n",
    "            dealer_wins(player_hand,dealer_hand,player_chips)\n",
    "        elif dealer_hand.value<player_hand.value:\n",
    "            player_wins(player_hand,dealer_hand,player_chips)\n",
    "        else:\n",
    "            push(player_hand,dealer_hand)\n",
    "    print('\\n player total chips are at {}'.format(player_chips.total))\n",
    "    new_game = input('Would you like to play another hand? y or n')\n",
    "    if new_game[0].lower() == 'y':\n",
    "        playing = True\n",
    "        continue\n",
    "    else:\n",
    "        print('Thanks for playing')\n",
    "        break\n",
    "        \n",
    "            "
   ]
  },
  {
   "cell_type": "code",
   "execution_count": null,
   "metadata": {},
   "outputs": [],
   "source": []
  }
 ],
 "metadata": {
  "kernelspec": {
   "display_name": "Python 3",
   "language": "python",
   "name": "python3"
  },
  "language_info": {
   "codemirror_mode": {
    "name": "ipython",
    "version": 3
   },
   "file_extension": ".py",
   "mimetype": "text/x-python",
   "name": "python",
   "nbconvert_exporter": "python",
   "pygments_lexer": "ipython3",
   "version": "3.8.5"
  }
 },
 "nbformat": 4,
 "nbformat_minor": 4
}

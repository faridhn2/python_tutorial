{
 "cells": [
  {
   "cell_type": "code",
   "execution_count": 66,
   "metadata": {},
   "outputs": [],
   "source": [
    "def create_stations(number_of_st):\n",
    "    stations = [f'S{i}' for i in range(1,number_of_st+1)]\n",
    "    stations_str = ' -- '.join(stations)\n",
    "    return  stations_str\n",
    "\n",
    "def create_train(name,loc):\n",
    "    return {'name':name,'Loc':loc}\n",
    "\n",
    "def show_board(stations_str,trains,number_of_st):\n",
    "    places = [' ']*(number_of_st*2-1)\n",
    "    for tr in trains :\n",
    "        if not tr['Loc'] is None:\n",
    "            if tr['Loc'] %2 == 0:\n",
    "                sign = 'O'\n",
    "            else:\n",
    "                sign = '>>'\n",
    "            places[tr['Loc']] = sign\n",
    "    places_str = '  '.join(places)\n",
    "    print(stations_str)\n",
    "    print(places_str)\n",
    "    \n",
    "\n",
    "def move_train(train,number_of_st):\n",
    "    if not train['Loc'] is None:\n",
    "        if train['Loc'] == number_of_st*2-2:\n",
    "            train['Loc'] = None\n",
    "        else:\n",
    "            train['Loc']+=1\n",
    "    else:\n",
    "        train['Loc'] = 0\n",
    "\n",
    "def move_train_by_name(trains,number_of_st,name):\n",
    "    _train = list(filter(lambda x : x['name']==name ,trains))\n",
    "    if _train:\n",
    "        train = _train[0]\n",
    "        if not train['Loc'] is None:\n",
    "            if train['Loc'] == number_of_st*2-2:\n",
    "                train['Loc'] = None\n",
    "            else:\n",
    "                train['Loc']+=1\n",
    "        else:\n",
    "            train['Loc'] = 0\n"
   ]
  },
  {
   "cell_type": "code",
   "execution_count": 67,
   "metadata": {},
   "outputs": [
    {
     "name": "stdout",
     "output_type": "stream",
     "text": [
      "S1 -- S2 -- S3 -- S4 -- S5 -- S6 -- S7\n",
      "      O        >>                     \n"
     ]
    }
   ],
   "source": [
    "number_of_st = 7\n",
    "# create 7 stations\n",
    "stations_str = create_stations(number_of_st)\n",
    "# create 3 trains \n",
    "train1 = create_train('T1',None)\n",
    "train2 = create_train('T2',2)\n",
    "train3 = create_train('T3',5)\n",
    "trains=[train1,train2,train3]\n",
    "show_board(stations_str,trains,number_of_st)"
   ]
  },
  {
   "cell_type": "code",
   "execution_count": 68,
   "metadata": {},
   "outputs": [
    {
     "data": {
      "text/plain": [
       "{'name': 'T1', 'Loc': None}"
      ]
     },
     "execution_count": 68,
     "metadata": {},
     "output_type": "execute_result"
    }
   ],
   "source": [
    "train1 "
   ]
  },
  {
   "cell_type": "code",
   "execution_count": 39,
   "metadata": {},
   "outputs": [],
   "source": [
    "move_train(train1,number_of_st)"
   ]
  },
  {
   "cell_type": "code",
   "execution_count": 85,
   "metadata": {},
   "outputs": [
    {
     "name": "stdout",
     "output_type": "stream",
     "text": [
      "S1 -- S2 -- S3 -- S4 -- S5 -- S6 -- S7\n",
      "   >>  O        >>                     \n"
     ]
    }
   ],
   "source": [
    "move_train_by_name(trains,number_of_st,'T3')\n",
    "show_board(stations_str,trains,number_of_st)"
   ]
  },
  {
   "cell_type": "code",
   "execution_count": 72,
   "metadata": {},
   "outputs": [
    {
     "data": {
      "text/plain": [
       "[{'name': 'T1', 'Loc': 1}, {'name': 'T2', 'Loc': 2}, {'name': 'T3', 'Loc': 6}]"
      ]
     },
     "execution_count": 72,
     "metadata": {},
     "output_type": "execute_result"
    }
   ],
   "source": [
    "trains"
   ]
  },
  {
   "cell_type": "code",
   "execution_count": 49,
   "metadata": {},
   "outputs": [
    {
     "name": "stdout",
     "output_type": "stream",
     "text": [
      "S1 -- S2 -- S3 -- S4 -- S5 -- S6 -- S7\n",
      "O     O        >>                     \n"
     ]
    }
   ],
   "source": [
    "show_board(stations_str,trains,number_of_st)"
   ]
  },
  {
   "cell_type": "code",
   "execution_count": null,
   "metadata": {},
   "outputs": [],
   "source": []
  }
 ],
 "metadata": {
  "kernelspec": {
   "display_name": "Python 3",
   "language": "python",
   "name": "python3"
  },
  "language_info": {
   "codemirror_mode": {
    "name": "ipython",
    "version": 3
   },
   "file_extension": ".py",
   "mimetype": "text/x-python",
   "name": "python",
   "nbconvert_exporter": "python",
   "pygments_lexer": "ipython3",
   "version": "3.8.5"
  }
 },
 "nbformat": 4,
 "nbformat_minor": 4
}

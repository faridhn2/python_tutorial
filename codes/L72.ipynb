{
 "cells": [
  {
   "cell_type": "code",
   "execution_count": 1,
   "metadata": {},
   "outputs": [],
   "source": [
    "import re"
   ]
  },
  {
   "cell_type": "code",
   "execution_count": 2,
   "metadata": {},
   "outputs": [],
   "source": [
    "patterns = ['term1','term2']"
   ]
  },
  {
   "cell_type": "code",
   "execution_count": 3,
   "metadata": {},
   "outputs": [],
   "source": [
    "text = 'This is a string with term1, ut not ther other term'"
   ]
  },
  {
   "cell_type": "code",
   "execution_count": 4,
   "metadata": {},
   "outputs": [
    {
     "data": {
      "text/plain": [
       "<re.Match object; span=(6, 11), match='hello'>"
      ]
     },
     "execution_count": 4,
     "metadata": {},
     "output_type": "execute_result"
    }
   ],
   "source": [
    "re.search('hello','salam hello world')"
   ]
  },
  {
   "cell_type": "code",
   "execution_count": 5,
   "metadata": {},
   "outputs": [
    {
     "name": "stdout",
     "output_type": "stream",
     "text": [
      "None\n"
     ]
    }
   ],
   "source": [
    "print(re.search('bye','salam hello world'))"
   ]
  },
  {
   "cell_type": "code",
   "execution_count": 6,
   "metadata": {},
   "outputs": [
    {
     "name": "stdout",
     "output_type": "stream",
     "text": [
      "<re.Match object; span=(6, 11), match='hello'>\n"
     ]
    }
   ],
   "source": [
    "print(re.search('hello','salam hello world'))"
   ]
  },
  {
   "cell_type": "code",
   "execution_count": 7,
   "metadata": {},
   "outputs": [
    {
     "name": "stdout",
     "output_type": "stream",
     "text": [
      "searching for term1 in : \n",
      " This is a string with term1, ut not ther other term \n",
      "mach was found\n",
      "searching for term2 in : \n",
      " This is a string with term1, ut not ther other term \n",
      "no match\n"
     ]
    }
   ],
   "source": [
    "for pattern in patterns:\n",
    "    print('searching for %s in : \\n %s ' %(pattern , text) )\n",
    "    if re.search(pattern , text):\n",
    "        print('mach was found')\n",
    "    else:\n",
    "        print('no match')"
   ]
  },
  {
   "cell_type": "code",
   "execution_count": 10,
   "metadata": {},
   "outputs": [],
   "source": [
    "re.search('w','h')"
   ]
  },
  {
   "cell_type": "code",
   "execution_count": 11,
   "metadata": {},
   "outputs": [
    {
     "data": {
      "text/plain": [
       "<re.Match object; span=(0, 1), match='w'>"
      ]
     },
     "execution_count": 11,
     "metadata": {},
     "output_type": "execute_result"
    }
   ],
   "source": [
    "re.search('w','w')"
   ]
  },
  {
   "cell_type": "code",
   "execution_count": 12,
   "metadata": {},
   "outputs": [],
   "source": [
    "match = re.search(patterns[0],text)"
   ]
  },
  {
   "cell_type": "code",
   "execution_count": 13,
   "metadata": {},
   "outputs": [
    {
     "data": {
      "text/plain": [
       "re.Match"
      ]
     },
     "execution_count": 13,
     "metadata": {},
     "output_type": "execute_result"
    }
   ],
   "source": [
    "type(match)"
   ]
  },
  {
   "cell_type": "code",
   "execution_count": 14,
   "metadata": {},
   "outputs": [
    {
     "data": {
      "text/plain": [
       "22"
      ]
     },
     "execution_count": 14,
     "metadata": {},
     "output_type": "execute_result"
    }
   ],
   "source": [
    "match.start()"
   ]
  },
  {
   "cell_type": "code",
   "execution_count": 15,
   "metadata": {},
   "outputs": [
    {
     "data": {
      "text/plain": [
       "'t'"
      ]
     },
     "execution_count": 15,
     "metadata": {},
     "output_type": "execute_result"
    }
   ],
   "source": [
    "text[match.start()]"
   ]
  },
  {
   "cell_type": "code",
   "execution_count": 16,
   "metadata": {},
   "outputs": [
    {
     "data": {
      "text/plain": [
       "27"
      ]
     },
     "execution_count": 16,
     "metadata": {},
     "output_type": "execute_result"
    }
   ],
   "source": [
    "match.end()"
   ]
  },
  {
   "cell_type": "code",
   "execution_count": 17,
   "metadata": {},
   "outputs": [
    {
     "data": {
      "text/plain": [
       "'term1'"
      ]
     },
     "execution_count": 17,
     "metadata": {},
     "output_type": "execute_result"
    }
   ],
   "source": [
    "text[match.start():match.end()]"
   ]
  },
  {
   "cell_type": "code",
   "execution_count": 17,
   "metadata": {},
   "outputs": [
    {
     "data": {
      "text/plain": [
       "<re.Match object; span=(22, 27), match='term1'>"
      ]
     },
     "execution_count": 17,
     "metadata": {},
     "output_type": "execute_result"
    }
   ],
   "source": [
    "match"
   ]
  },
  {
   "cell_type": "code",
   "execution_count": 18,
   "metadata": {},
   "outputs": [],
   "source": [
    "split_term  = \"@\""
   ]
  },
  {
   "cell_type": "code",
   "execution_count": 19,
   "metadata": {},
   "outputs": [],
   "source": [
    "phrase = \"what is your email, is it hello@gmail.com\""
   ]
  },
  {
   "cell_type": "code",
   "execution_count": 20,
   "metadata": {},
   "outputs": [
    {
     "data": {
      "text/plain": [
       "['what is your email, is it hello', 'gmail.com']"
      ]
     },
     "execution_count": 20,
     "metadata": {},
     "output_type": "execute_result"
    }
   ],
   "source": [
    "re.split(split_term,phrase)"
   ]
  },
  {
   "cell_type": "code",
   "execution_count": 21,
   "metadata": {},
   "outputs": [
    {
     "data": {
      "text/plain": [
       "['hello', 'world']"
      ]
     },
     "execution_count": 21,
     "metadata": {},
     "output_type": "execute_result"
    }
   ],
   "source": [
    "\"hello world\".split()"
   ]
  },
  {
   "cell_type": "code",
   "execution_count": 22,
   "metadata": {},
   "outputs": [
    {
     "data": {
      "text/plain": [
       "['he', '', 'o wor', 'd']"
      ]
     },
     "execution_count": 22,
     "metadata": {},
     "output_type": "execute_result"
    }
   ],
   "source": [
    "\"hello world\".split('l')"
   ]
  },
  {
   "cell_type": "code",
   "execution_count": 23,
   "metadata": {},
   "outputs": [
    {
     "data": {
      "text/plain": [
       "['match', 'match']"
      ]
     },
     "execution_count": 23,
     "metadata": {},
     "output_type": "execute_result"
    }
   ],
   "source": [
    "re.findall('match','here is one match. here is another match')"
   ]
  },
  {
   "cell_type": "code",
   "execution_count": 24,
   "metadata": {},
   "outputs": [],
   "source": [
    "def multi_re_find(patterns,phrase):\n",
    "    for pattern in patterns:\n",
    "        print('pattern : %r' %pattern)\n",
    "        print(re.findall(pattern , phrase))"
   ]
  },
  {
   "cell_type": "code",
   "execution_count": 25,
   "metadata": {},
   "outputs": [],
   "source": [
    "test_phrase = \"sdsdsssdddssssddddd1234556689DDDddSSSdsDsssSdddSSDssdsddsdddsddddd@#!1234   asdfasd\""
   ]
  },
  {
   "cell_type": "code",
   "execution_count": 26,
   "metadata": {},
   "outputs": [],
   "source": [
    "test_patterns=['sd*',# s 0 > n d\n",
    "               'sd+',# s 1 > n d\n",
    "               'sd?',# s 0 > 1 d\n",
    "               'sd{3}',# s with 3 d\n",
    "               'sd{2,3}', # s 2 or 3 d\n",
    "              '[sd]', # s or d\n",
    "              's[sd]+', # s with s or d\n",
    "              '[^!.? ]',  # شامل  ! . ? فاصله\n",
    "              '[a-z]', # دنباله حروف کوچک\n",
    "               '[A-Z]', # دنباله حروف بزرگ\n",
    "               '[a-zA-Z]+',# دنباله حروف کوچک یا بزرگ\n",
    "               '[A-Z][a-z]',# دنباله ای که با حرف بزرگ شروع و در ادامه بقیه کوچک باشند\n",
    "               r'\\d+',#دنباله شامل رقم\n",
    "               r'\\D+',#دنباله شامل غیر رقم\n",
    "               r'\\s+',#شامل فضای خالی\n",
    "               r'\\S+',# شمال عدم فضای خالی\n",
    "               r'\\w+',#اعداد باشه یا حروف\n",
    "               r'\\W+'#غیر اعداد و غیر حروف(فقط نمادها)\n",
    "              \n",
    "              \n",
    "              \n",
    "              ]"
   ]
  },
  {
   "cell_type": "code",
   "execution_count": 27,
   "metadata": {},
   "outputs": [
    {
     "name": "stdout",
     "output_type": "stream",
     "text": [
      "pattern : 'sd*'\n",
      "['sd', 'sd', 's', 's', 'sddd', 's', 's', 's', 'sddddd', 's', 's', 's', 's', 's', 'sd', 'sdd', 'sddd', 'sddddd', 'sd', 'sd']\n",
      "pattern : 'sd+'\n",
      "['sd', 'sd', 'sddd', 'sddddd', 'sd', 'sdd', 'sddd', 'sddddd', 'sd', 'sd']\n",
      "pattern : 'sd?'\n",
      "['sd', 'sd', 's', 's', 'sd', 's', 's', 's', 'sd', 's', 's', 's', 's', 's', 'sd', 'sd', 'sd', 'sd', 'sd', 'sd']\n",
      "pattern : 'sd{3}'\n",
      "['sddd', 'sddd', 'sddd', 'sddd']\n",
      "pattern : 'sd{2,3}'\n",
      "['sddd', 'sddd', 'sdd', 'sddd', 'sddd']\n",
      "pattern : '[sd]'\n",
      "['s', 'd', 's', 'd', 's', 's', 's', 'd', 'd', 'd', 's', 's', 's', 's', 'd', 'd', 'd', 'd', 'd', 'd', 'd', 'd', 's', 's', 's', 's', 'd', 'd', 'd', 's', 's', 'd', 's', 'd', 'd', 's', 'd', 'd', 'd', 's', 'd', 'd', 'd', 'd', 'd', 's', 'd', 's', 'd']\n",
      "pattern : 's[sd]+'\n",
      "['sdsdsssdddssssddddd', 'sss', 'ssdsddsdddsddddd', 'sd', 'sd']\n",
      "pattern : '[^!.? ]'\n",
      "['s', 'd', 's', 'd', 's', 's', 's', 'd', 'd', 'd', 's', 's', 's', 's', 'd', 'd', 'd', 'd', 'd', '1', '2', '3', '4', '5', '5', '6', '6', '8', '9', 'D', 'D', 'D', 'd', 'd', 'S', 'S', 'S', 'd', 's', 'D', 's', 's', 's', 'S', 'd', 'd', 'd', 'S', 'S', 'D', 's', 's', 'd', 's', 'd', 'd', 's', 'd', 'd', 'd', 's', 'd', 'd', 'd', 'd', 'd', '@', '#', '1', '2', '3', '4', 'a', 's', 'd', 'f', 'a', 's', 'd']\n",
      "pattern : '[a-z]'\n",
      "['s', 'd', 's', 'd', 's', 's', 's', 'd', 'd', 'd', 's', 's', 's', 's', 'd', 'd', 'd', 'd', 'd', 'd', 'd', 'd', 's', 's', 's', 's', 'd', 'd', 'd', 's', 's', 'd', 's', 'd', 'd', 's', 'd', 'd', 'd', 's', 'd', 'd', 'd', 'd', 'd', 'a', 's', 'd', 'f', 'a', 's', 'd']\n",
      "pattern : '[A-Z]'\n",
      "['D', 'D', 'D', 'S', 'S', 'S', 'D', 'S', 'S', 'S', 'D']\n",
      "pattern : '[a-zA-Z]+'\n",
      "['sdsdsssdddssssddddd', 'DDDddSSSdsDsssSdddSSDssdsddsdddsddddd', 'asdfasd']\n",
      "pattern : '[A-Z][a-z]'\n",
      "['Dd', 'Sd', 'Ds', 'Sd', 'Ds']\n",
      "pattern : '\\\\d+'\n",
      "['1234556689', '1234']\n",
      "pattern : '\\\\D+'\n",
      "['sdsdsssdddssssddddd', 'DDDddSSSdsDsssSdddSSDssdsddsdddsddddd@#!', '   asdfasd']\n",
      "pattern : '\\\\s+'\n",
      "['   ']\n",
      "pattern : '\\\\S+'\n",
      "['sdsdsssdddssssddddd1234556689DDDddSSSdsDsssSdddSSDssdsddsdddsddddd@#!1234', 'asdfasd']\n",
      "pattern : '\\\\w+'\n",
      "['sdsdsssdddssssddddd1234556689DDDddSSSdsDsssSdddSSDssdsddsdddsddddd', '1234', 'asdfasd']\n",
      "pattern : '\\\\W+'\n",
      "['@#!', '   ']\n"
     ]
    }
   ],
   "source": [
    "multi_re_find(test_patterns,test_phrase)"
   ]
  },
  {
   "cell_type": "code",
   "execution_count": 28,
   "metadata": {},
   "outputs": [],
   "source": [
    "test = 'man Farid Hashemi hastam'"
   ]
  },
  {
   "cell_type": "code",
   "execution_count": 32,
   "metadata": {},
   "outputs": [
    {
     "data": {
      "text/plain": [
       "['Farid', 'Hashemi']"
      ]
     },
     "execution_count": 32,
     "metadata": {},
     "output_type": "execute_result"
    }
   ],
   "source": [
    "re.findall('[A-Z][a-z]+',test)"
   ]
  },
  {
   "cell_type": "code",
   "execution_count": 35,
   "metadata": {},
   "outputs": [
    {
     "data": {
      "text/plain": [
       "19"
      ]
     },
     "execution_count": 35,
     "metadata": {},
     "output_type": "execute_result"
    }
   ],
   "source": [
    "len(re.findall('[a-z]',test))"
   ]
  },
  {
   "cell_type": "code",
   "execution_count": 37,
   "metadata": {},
   "outputs": [
    {
     "data": {
      "text/plain": [
       "13"
      ]
     },
     "execution_count": 37,
     "metadata": {},
     "output_type": "execute_result"
    }
   ],
   "source": [
    "len(re.findall('[e-z]',test))"
   ]
  },
  {
   "cell_type": "code",
   "execution_count": 38,
   "metadata": {},
   "outputs": [
    {
     "data": {
      "text/plain": [
       "['1', '2', '3', '4', '5', '5', '6', '6', '8', '9', '1', '2', '3', '4']"
      ]
     },
     "execution_count": 38,
     "metadata": {},
     "output_type": "execute_result"
    }
   ],
   "source": [
    "re.findall('[1-9]',test_phrase)"
   ]
  },
  {
   "cell_type": "code",
   "execution_count": 39,
   "metadata": {},
   "outputs": [
    {
     "data": {
      "text/plain": [
       "['5', '5', '6', '6', '8', '9']"
      ]
     },
     "execution_count": 39,
     "metadata": {},
     "output_type": "execute_result"
    }
   ],
   "source": [
    "re.findall('[5-9]',test_phrase)"
   ]
  },
  {
   "cell_type": "code",
   "execution_count": 5,
   "metadata": {},
   "outputs": [
    {
     "name": "stdout",
     "output_type": "stream",
     "text": [
      "The original string is : gfg at 2021-01-04\n",
      "Computed date : 2021-01-04\n"
     ]
    }
   ],
   "source": [
    "import re\n",
    "from datetime import datetime\n",
    " \n",
    "\n",
    "test_str = \"gfg at 2021-01-04\"\n",
    " \n",
    "\n",
    "print(\"The original string is : \" + str(test_str))\n",
    "\n",
    "match_str = re.search(r'\\d{4}-\\d{2}-\\d{2}', test_str)\n",
    "\n",
    "res = datetime.strptime(match_str.group(), '%Y-%m-%d').date()\n",
    "\n",
    "print(\"Computed date : \" + str(res))"
   ]
  },
  {
   "cell_type": "code",
   "execution_count": 2,
   "metadata": {},
   "outputs": [
    {
     "data": {
      "text/plain": [
       "'2021-01-04'"
      ]
     },
     "execution_count": 2,
     "metadata": {},
     "output_type": "execute_result"
    }
   ],
   "source": [
    "match_str.group()"
   ]
  },
  {
   "cell_type": "code",
   "execution_count": 3,
   "metadata": {},
   "outputs": [
    {
     "data": {
      "text/plain": [
       "<re.Match object; span=(7, 17), match='2021-01-04'>"
      ]
     },
     "execution_count": 3,
     "metadata": {},
     "output_type": "execute_result"
    }
   ],
   "source": [
    "match_str"
   ]
  },
  {
   "cell_type": "code",
   "execution_count": 6,
   "metadata": {},
   "outputs": [
    {
     "data": {
      "text/plain": [
       "4"
      ]
     },
     "execution_count": 6,
     "metadata": {},
     "output_type": "execute_result"
    }
   ],
   "source": [
    "res.day"
   ]
  },
  {
   "cell_type": "code",
   "execution_count": 7,
   "metadata": {},
   "outputs": [],
   "source": [
    "match_str = re.findall(r'\\d{4}-\\d{2}-\\d{2}', test_str)"
   ]
  },
  {
   "cell_type": "code",
   "execution_count": 8,
   "metadata": {},
   "outputs": [
    {
     "data": {
      "text/plain": [
       "['2021-01-04']"
      ]
     },
     "execution_count": 8,
     "metadata": {},
     "output_type": "execute_result"
    }
   ],
   "source": [
    "match_str"
   ]
  },
  {
   "cell_type": "code",
   "execution_count": 10,
   "metadata": {},
   "outputs": [
    {
     "data": {
      "text/plain": [
       "4"
      ]
     },
     "execution_count": 10,
     "metadata": {},
     "output_type": "execute_result"
    }
   ],
   "source": [
    "res.day"
   ]
  },
  {
   "cell_type": "code",
   "execution_count": 11,
   "metadata": {},
   "outputs": [
    {
     "data": {
      "text/plain": [
       "1"
      ]
     },
     "execution_count": 11,
     "metadata": {},
     "output_type": "execute_result"
    }
   ],
   "source": [
    "res.month"
   ]
  },
  {
   "cell_type": "code",
   "execution_count": null,
   "metadata": {},
   "outputs": [],
   "source": []
  }
 ],
 "metadata": {
  "kernelspec": {
   "display_name": "Python 3",
   "language": "python",
   "name": "python3"
  },
  "language_info": {
   "codemirror_mode": {
    "name": "ipython",
    "version": 3
   },
   "file_extension": ".py",
   "mimetype": "text/x-python",
   "name": "python",
   "nbconvert_exporter": "python",
   "pygments_lexer": "ipython3",
   "version": "3.8.5"
  }
 },
 "nbformat": 4,
 "nbformat_minor": 4
}

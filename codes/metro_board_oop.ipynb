{
 "cells": [
  {
   "cell_type": "code",
   "execution_count": 18,
   "metadata": {},
   "outputs": [],
   "source": [
    "from IPython.display import clear_output\n",
    "class MetroBoard:\n",
    "    def __init__(self,number_of_st, number_of_trains):\n",
    "        # create self.trains , call self.create_stations , \n",
    "        # call add_n_train and show_board\n",
    "        self.number_of_st = number_of_st\n",
    "        self.trains = []\n",
    "        self.create_stations()\n",
    "        self.add_n_train(number_of_trains)\n",
    "        self.show_board()\n",
    "\n",
    "    def create_stations(self):\n",
    "        self.stations_str = ' -- '.join([f\"S{x}\" for x in range(1, self.number_of_st + 1)])\n",
    "    def create_train(self,name,loc):\n",
    "        # create a new Train and append to self.trains\n",
    "        return Train(name, loc)\n",
    "    def show_board(self):\n",
    "        clear_output()\n",
    "        # print stations and trains and self.places\n",
    "        print(self.stations_str)\n",
    "        places = [' ']*((self.number_of_st*2)-1)\n",
    "        for train in self.trains: \n",
    "            loc = train.loc\n",
    "            if loc is not None:\n",
    "                if loc%2==0:\n",
    "                    places[loc] = 'O'\n",
    "                else:\n",
    "                    places[loc] = '>>'\n",
    "        print(\"  \".join(places)) \n",
    "    def add_n_train(self,n):\n",
    "        # call create_train and append to self.trains\n",
    "        for _ in range(n):\n",
    "            train_props = input(\"Enter 'name':'loation' of train:{None Enter -1} \")\n",
    "            name, location = train_props.split(\":\")\n",
    "            location = int(location)\n",
    "            if location == -1:\n",
    "                location = None\n",
    "    \n",
    "            train = self.create_train(name, location)\n",
    "            self.trains.append(train)\n",
    "    # this method is responsible for moving one train\n",
    "    def move_train_by_name(self, name):\n",
    "        for train in self.trains:\n",
    "            if train.name == name:\n",
    "                train.move_train(self.number_of_st)\n",
    "                break    \n",
    "        self.show_board()\n",
    "            \n",
    "                \n",
    "class Train:\n",
    "    def __init__(self,name,loc):\n",
    "        # set train attrs \n",
    "        self.name = name\n",
    "        self.loc = loc\n",
    "    def move_train(self, number_of_st):\n",
    "        # we have n-1 routes and n stations, so we have 2n-1 places.\n",
    "        # plus we start from 0 not 1. so 2n-2(number_of_st*2-2)\n",
    "        if self.loc is not None and self.loc != number_of_st*2-2:\n",
    "            self.loc += 1\n",
    "        elif self.loc == number_of_st*2-2:\n",
    "            self.loc = None\n",
    "        else:\n",
    "            self.loc = 0\n",
    "            \n"
   ]
  },
  {
   "cell_type": "code",
   "execution_count": 19,
   "metadata": {},
   "outputs": [
    {
     "name": "stdout",
     "output_type": "stream",
     "text": [
      "S1 -- S2 -- S3 -- S4 -- S5 -- S6 -- S7\n",
      "      O     O                        \n"
     ]
    }
   ],
   "source": [
    "metro_board = MetroBoard(7, 2)"
   ]
  },
  {
   "cell_type": "code",
   "execution_count": 25,
   "metadata": {},
   "outputs": [
    {
     "name": "stdout",
     "output_type": "stream",
     "text": [
      "S1 -- S2 -- S3 -- S4 -- S5 -- S6 -- S7\n",
      "            O           O            \n"
     ]
    }
   ],
   "source": [
    "metro_board.move_train_by_name('T1')"
   ]
  },
  {
   "cell_type": "code",
   "execution_count": null,
   "metadata": {},
   "outputs": [],
   "source": []
  },
  {
   "cell_type": "code",
   "execution_count": null,
   "metadata": {},
   "outputs": [],
   "source": []
  }
 ],
 "metadata": {
  "kernelspec": {
   "display_name": "Python 3",
   "language": "python",
   "name": "python3"
  },
  "language_info": {
   "codemirror_mode": {
    "name": "ipython",
    "version": 3
   },
   "file_extension": ".py",
   "mimetype": "text/x-python",
   "name": "python",
   "nbconvert_exporter": "python",
   "pygments_lexer": "ipython3",
   "version": "3.8.5"
  }
 },
 "nbformat": 4,
 "nbformat_minor": 4
}

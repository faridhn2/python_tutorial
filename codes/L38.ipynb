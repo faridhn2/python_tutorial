{
 "cells": [
  {
   "cell_type": "markdown",
   "metadata": {},
   "source": [
    " # چالش "
   ]
  },
  {
   "cell_type": "markdown",
   "metadata": {},
   "source": [
    "SpyGame"
   ]
  },
  {
   "cell_type": "markdown",
   "metadata": {},
   "source": [
    "تابعی بنویسید که یک لیست از اعداد صحیح را بگیرد و اگر شامل 007 باشد مقدار صحیح را برگرداند"
   ]
  },
  {
   "cell_type": "markdown",
   "metadata": {},
   "source": [
    "spy_game([1,2,4,0,0,7,5]) --> True"
   ]
  },
  {
   "cell_type": "markdown",
   "metadata": {},
   "source": [
    "spy_game([1,0,2,4,0,5,7]) --> True"
   ]
  },
  {
   "cell_type": "markdown",
   "metadata": {},
   "source": [
    "spy_game([1,7,2,0,4,5,0]) -->False"
   ]
  },
  {
   "cell_type": "code",
   "execution_count": 1,
   "metadata": {},
   "outputs": [],
   "source": [
    "def spy_game(nums):\n",
    "    code = [0,0,7,'x']\n",
    "    #[0,7,'x']\n",
    "    #[7,'x']\n",
    "    #['x'] --> len(code)==1\n",
    "    for num in nums:\n",
    "        if num==code[0]:\n",
    "            code.pop(0)\n",
    "    return len(code)==1"
   ]
  },
  {
   "cell_type": "code",
   "execution_count": 4,
   "metadata": {},
   "outputs": [
    {
     "data": {
      "text/plain": [
       "True"
      ]
     },
     "execution_count": 4,
     "metadata": {},
     "output_type": "execute_result"
    }
   ],
   "source": [
    "spy_game([1,2,4,0,0,7,5])\n",
    "spy_game([1,0,2,4,0,5,7])"
   ]
  },
  {
   "cell_type": "code",
   "execution_count": 5,
   "metadata": {},
   "outputs": [
    {
     "data": {
      "text/plain": [
       "False"
      ]
     },
     "execution_count": 5,
     "metadata": {},
     "output_type": "execute_result"
    }
   ],
   "source": [
    "spy_game([1,7,2,0,4,5,0]) "
   ]
  },
  {
   "cell_type": "markdown",
   "metadata": {},
   "source": [
    "تمرین: برنامه ای بنویسید که تعداد اعداد اول تا عدد ارائه شده را بدست آورد"
   ]
  },
  {
   "cell_type": "markdown",
   "metadata": {},
   "source": [
    "صفر و یک عدد اول نیستند"
   ]
  },
  {
   "cell_type": "markdown",
   "metadata": {},
   "source": [
    "count_prime(100) --> 25"
   ]
  },
  {
   "cell_type": "code",
   "execution_count": 6,
   "metadata": {},
   "outputs": [],
   "source": [
    "def count_prime(num):\n",
    "    #check for 0 or 1 input\n",
    "    if num <2:\n",
    "        return 0\n",
    "    else:\n",
    "        # 2 or greater\n",
    "        primes=[2]\n",
    "        x = 3\n",
    "        while x <=num:\n",
    "            for y in range(3,x,2):\n",
    "                if x%y==0:\n",
    "                    x+=2\n",
    "                    break\n",
    "            else:\n",
    "                primes.append(x)\n",
    "                x+=2\n",
    "        print(primes)\n",
    "        return len(primes)"
   ]
  },
  {
   "cell_type": "code",
   "execution_count": 7,
   "metadata": {},
   "outputs": [
    {
     "name": "stdout",
     "output_type": "stream",
     "text": [
      "[2, 3, 5, 7, 11, 13, 17, 19, 23, 29, 31, 37, 41, 43, 47, 53, 59, 61, 67, 71, 73, 79, 83, 89, 97]\n"
     ]
    },
    {
     "data": {
      "text/plain": [
       "25"
      ]
     },
     "execution_count": 7,
     "metadata": {},
     "output_type": "execute_result"
    }
   ],
   "source": [
    "count_prime(100)"
   ]
  },
  {
   "cell_type": "code",
   "execution_count": 8,
   "metadata": {},
   "outputs": [
    {
     "name": "stdout",
     "output_type": "stream",
     "text": [
      "[2, 3, 5, 7, 11, 13, 17, 19, 23, 29, 31, 37, 41, 43, 47, 53, 59, 61, 67, 71, 73, 79, 83, 89, 97, 101, 103, 107, 109, 113, 127, 131, 137, 139, 149]\n"
     ]
    },
    {
     "data": {
      "text/plain": [
       "35"
      ]
     },
     "execution_count": 8,
     "metadata": {},
     "output_type": "execute_result"
    }
   ],
   "source": [
    "count_prime(150)"
   ]
  },
  {
   "cell_type": "code",
   "execution_count": null,
   "metadata": {},
   "outputs": [],
   "source": []
  },
  {
   "cell_type": "markdown",
   "metadata": {},
   "source": [
    "نکته مهم"
   ]
  },
  {
   "cell_type": "markdown",
   "metadata": {},
   "source": [
    "for else"
   ]
  },
  {
   "cell_type": "raw",
   "metadata": {},
   "source": [
    "for ---\n",
    "    if ---\n",
    "        break\n",
    "    else:\n",
    "        ----"
   ]
  },
  {
   "cell_type": "markdown",
   "metadata": {},
   "source": [
    "برای بررسی یک موضوع تکرار شونده به کار می رود و در صورتی که یافت نشد "
   ]
  },
  {
   "cell_type": "markdown",
   "metadata": {},
   "source": [
    "else اجرا می شود"
   ]
  },
  {
   "cell_type": "code",
   "execution_count": null,
   "metadata": {},
   "outputs": [],
   "source": []
  }
 ],
 "metadata": {
  "kernelspec": {
   "display_name": "Python 3",
   "language": "python",
   "name": "python3"
  },
  "language_info": {
   "codemirror_mode": {
    "name": "ipython",
    "version": 3
   },
   "file_extension": ".py",
   "mimetype": "text/x-python",
   "name": "python",
   "nbconvert_exporter": "python",
   "pygments_lexer": "ipython3",
   "version": "3.8.5"
  }
 },
 "nbformat": 4,
 "nbformat_minor": 4
}

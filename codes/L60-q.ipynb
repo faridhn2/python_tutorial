{
 "cells": [
  {
   "cell_type": "markdown",
   "metadata": {},
   "source": [
    "ماژول رندم و شافل و ساختن کارت ها "
   ]
  },
  {
   "cell_type": "code",
   "execution_count": 1,
   "metadata": {},
   "outputs": [],
   "source": [
    "suits=('Hearts','Diamonds','Spads','Clube')\n",
    "ranks=('Two','Three','Four','Five','Six','Seven','Eight','Nine','Ten','Jack','Queen','King','Ace')\n",
    "values = {'Two':2,'Three':3,'Four':4,'Five':5,'Six':6,'Seven':7,'Eight':8,\n",
    "          'Nine':9,'Ten':10,'Jack':10,'Queen':10,'King':10,'Ace':11}\n",
    "import random\n",
    "playing = True"
   ]
  },
  {
   "cell_type": "markdown",
   "metadata": {},
   "source": [
    "ساختن کلاس کارت"
   ]
  },
  {
   "cell_type": "code",
   "execution_count": 2,
   "metadata": {},
   "outputs": [],
   "source": [
    "class Card:\n",
    "    def __init__(self,suit,rank):\n",
    "        pass\n",
    "        # TODO\n",
    "    def __str__(self):\n",
    "        pass\n",
    "        # TODO"
   ]
  },
  {
   "cell_type": "markdown",
   "metadata": {},
   "source": [
    "ساختن کلاس دسته"
   ]
  },
  {
   "cell_type": "code",
   "execution_count": 17,
   "metadata": {},
   "outputs": [],
   "source": [
    "class Deck:\n",
    "    def __init__(self):\n",
    "        # TODO\n",
    "        pass\n",
    "    def __str__(self):\n",
    "        # TODO\n",
    "        pass\n",
    "    def shuffle(self):\n",
    "        # TODO\n",
    "        pass\n",
    "\n",
    "    def deal(self):\n",
    "        # TODO\n",
    "        pass\n",
    "\n",
    "            \n",
    "            \n",
    "            \n",
    "            \n",
    "            \n",
    "            "
   ]
  },
  {
   "cell_type": "code",
   "execution_count": 18,
   "metadata": {},
   "outputs": [],
   "source": [
    "test_deck = Deck()"
   ]
  },
  {
   "cell_type": "code",
   "execution_count": 19,
   "metadata": {},
   "outputs": [],
   "source": [
    "test_deck.shuffle()"
   ]
  },
  {
   "cell_type": "code",
   "execution_count": 20,
   "metadata": {},
   "outputs": [
    {
     "name": "stdout",
     "output_type": "stream",
     "text": [
      "The deck has: \n",
      "Queen of Hearts\n",
      "Four of Hearts\n",
      "King of Hearts\n",
      "Five of Diamonds\n",
      "Jack of Spads\n",
      "Six of Clube\n",
      "Queen of Diamonds\n",
      "Two of Diamonds\n",
      "Ten of Spads\n",
      "Queen of Spads\n",
      "Five of Clube\n",
      "Ace of Spads\n",
      "Four of Spads\n",
      "Eight of Hearts\n",
      "Five of Hearts\n",
      "Four of Diamonds\n",
      "Six of Spads\n",
      "Six of Diamonds\n",
      "Seven of Diamonds\n",
      "Five of Spads\n",
      "Jack of Diamonds\n",
      "Jack of Hearts\n",
      "Jack of Clube\n",
      "Three of Hearts\n",
      "Four of Clube\n",
      "King of Clube\n",
      "Ace of Diamonds\n",
      "King of Spads\n",
      "Three of Clube\n",
      "Two of Hearts\n",
      "Three of Spads\n",
      "Nine of Spads\n",
      "Ten of Hearts\n",
      "Ten of Diamonds\n",
      "Ten of Clube\n",
      "Nine of Diamonds\n",
      "Three of Diamonds\n",
      "Ace of Hearts\n",
      "Two of Spads\n",
      "Seven of Hearts\n",
      "Seven of Spads\n",
      "Two of Clube\n",
      "Nine of Clube\n",
      "Six of Hearts\n",
      "Queen of Clube\n",
      "Eight of Diamonds\n",
      "Eight of Clube\n",
      "Eight of Spads\n",
      "Ace of Clube\n",
      "King of Diamonds\n",
      "Seven of Clube\n",
      "Nine of Hearts\n"
     ]
    }
   ],
   "source": [
    "print(test_deck)"
   ]
  },
  {
   "cell_type": "code",
   "execution_count": 42,
   "metadata": {},
   "outputs": [],
   "source": [
    "class Hand:\n",
    "    def __init__(self):\n",
    "        # TODO\n",
    "        pass\n",
    "    \n",
    "    def add_card(self,card):\n",
    "        # TODO\n",
    "        pass\n",
    "    \n",
    "    def adjust_for_aces(self):\n",
    "        # TODO\n",
    "        pass\n",
    "        "
   ]
  },
  {
   "cell_type": "code",
   "execution_count": 24,
   "metadata": {},
   "outputs": [
    {
     "name": "stdout",
     "output_type": "stream",
     "text": [
      "True\n",
      "Ace of Diamonds\n",
      "11\n",
      "16\n"
     ]
    }
   ],
   "source": [
    "if 2:\n",
    "    print('True')\n",
    "test_deck = Deck()\n",
    "test_deck.shuffle()\n",
    "test_player = Hand()\n",
    "pulled_card = test_deck.deal()\n",
    "print(pulled_card)\n",
    "test_player.add_card(pulled_card)\n",
    "print(test_player.value)\n",
    "test_player.add_card(test_deck.deal())\n",
    "print(test_player.value)"
   ]
  },
  {
   "cell_type": "code",
   "execution_count": 26,
   "metadata": {},
   "outputs": [],
   "source": [
    "class Chips:\n",
    "    def __init__(self,total=100):\n",
    "        # TODO\n",
    "        pass\n",
    "    def win_bet(self):\n",
    "        # TODO\n",
    "        pass\n",
    "    def lose_bet(self):\n",
    "        # TODO\n",
    "        pass\n",
    "    "
   ]
  },
  {
   "cell_type": "markdown",
   "metadata": {},
   "source": [
    "تابع گرفتن شرط بندی"
   ]
  },
  {
   "cell_type": "code",
   "execution_count": 27,
   "metadata": {},
   "outputs": [],
   "source": [
    "def take_bet(chips):\n",
    "    # TODO\n",
    "    pass"
   ]
  },
  {
   "cell_type": "markdown",
   "metadata": {},
   "source": [
    "تابع درخواست کارت "
   ]
  },
  {
   "cell_type": "code",
   "execution_count": 28,
   "metadata": {},
   "outputs": [],
   "source": [
    "def hit(deck, hand):\n",
    "    # TODO\n",
    "    pass\n",
    "    "
   ]
  },
  {
   "cell_type": "markdown",
   "metadata": {},
   "source": [
    "تابع تصمیم برای ادامه بازی یا توقف روند کارت گیری"
   ]
  },
  {
   "cell_type": "code",
   "execution_count": 29,
   "metadata": {},
   "outputs": [],
   "source": [
    "def hit_or_stand(deck,hand):\n",
    "    global playing\n",
    "    # TODO\n",
    "    pass"
   ]
  },
  {
   "cell_type": "markdown",
   "metadata": {},
   "source": [
    "توابع بررسی اتمام بازی"
   ]
  },
  {
   "cell_type": "code",
   "execution_count": 30,
   "metadata": {},
   "outputs": [],
   "source": [
    "def show_some(player,dealer):\n",
    "    # TODO\n",
    "    pass"
   ]
  },
  {
   "cell_type": "code",
   "execution_count": 31,
   "metadata": {},
   "outputs": [],
   "source": [
    "def show_all(player,dealer):\n",
    "    print('Dealers hand: ')\n",
    "    # TODO\n",
    "    pass"
   ]
  },
  {
   "cell_type": "code",
   "execution_count": 35,
   "metadata": {},
   "outputs": [],
   "source": [
    "def player_busts(player,dealer,chips):\n",
    "    # TODO\n",
    "    pass\n",
    "    "
   ]
  },
  {
   "cell_type": "code",
   "execution_count": 36,
   "metadata": {},
   "outputs": [],
   "source": [
    "def player_wins(player,dealer,chips):\n",
    "    # TODO\n",
    "    pass\n",
    "    "
   ]
  },
  {
   "cell_type": "code",
   "execution_count": 37,
   "metadata": {},
   "outputs": [],
   "source": [
    "def dealer_busts(player,dealer,chips):\n",
    "    # TODO\n",
    "    pass\n",
    "    "
   ]
  },
  {
   "cell_type": "code",
   "execution_count": 38,
   "metadata": {},
   "outputs": [],
   "source": [
    "def dealer_wins(player,dealer,chips):\n",
    "    # TODO\n",
    "    pass\n",
    "    "
   ]
  },
  {
   "cell_type": "code",
   "execution_count": 40,
   "metadata": {},
   "outputs": [],
   "source": [
    "def push(player,dealer):\n",
    "    print('Dealer and player tie! push')"
   ]
  },
  {
   "cell_type": "markdown",
   "metadata": {},
   "source": [
    "بلوک اصلی\n"
   ]
  },
  {
   "cell_type": "code",
   "execution_count": 45,
   "metadata": {},
   "outputs": [
    {
     "name": "stdout",
     "output_type": "stream",
     "text": [
      "welcome to Black Jack\n",
      "How many chips would you like to bet?10\n",
      "Dealers hand: \n",
      "One card hidden\n",
      "Ten of Spads\n",
      "\n",
      "\n",
      "Player Hand: \n",
      "Ace of Spads\n",
      "Jack of Diamonds\n",
      "Dealers hand: \n",
      "Four of Diamonds\n",
      "Ten of Spads\n",
      "Ace of Clube\n",
      "Ten of Diamonds\n",
      "\n",
      "\n",
      "Player Hand: \n",
      "Ace of Spads\n",
      "Jack of Diamonds\n",
      "Player Win, Dealer Busted\n",
      "\n",
      " player total chips are at 110\n",
      "Would you like to play another hand? y or ny\n",
      "welcome to Black Jack\n",
      "How many chips would you like to bet?10\n",
      "Dealers hand: \n",
      "One card hidden\n",
      "Nine of Spads\n",
      "\n",
      "\n",
      "Player Hand: \n",
      "Three of Diamonds\n",
      "Eight of Diamonds\n",
      "Hit or Stand? Enter  or sh\n",
      "Dealers hand: \n",
      "One card hidden\n",
      "Nine of Spads\n",
      "\n",
      "\n",
      "Player Hand: \n",
      "Three of Diamonds\n",
      "Eight of Diamonds\n",
      "Six of Hearts\n",
      "Hit or Stand? Enter  or sh\n",
      "Dealers hand: \n",
      "One card hidden\n",
      "Nine of Spads\n",
      "\n",
      "\n",
      "Player Hand: \n",
      "Three of Diamonds\n",
      "Eight of Diamonds\n",
      "Six of Hearts\n",
      "Six of Clube\n",
      "Bust Player\n",
      "\n",
      " player total chips are at 90\n",
      "Would you like to play another hand? y or ny\n",
      "welcome to Black Jack\n",
      "How many chips would you like to bet?10\n",
      "Dealers hand: \n",
      "One card hidden\n",
      "Ten of Spads\n",
      "\n",
      "\n",
      "Player Hand: \n",
      "Ace of Clube\n",
      "Ten of Diamonds\n",
      "Hit or Stand? Enter  or ss\n",
      "player stands Dealers Turn\n",
      "Dealers hand: \n",
      "One card hidden\n",
      "Ten of Spads\n",
      "\n",
      "\n",
      "Player Hand: \n",
      "Ace of Clube\n",
      "Ten of Diamonds\n",
      "Dealers hand: \n",
      "Eight of Diamonds\n",
      "Ten of Spads\n",
      "Five of Spads\n",
      "\n",
      "\n",
      "Player Hand: \n",
      "Ace of Clube\n",
      "Ten of Diamonds\n",
      "Player Win, Dealer Busted\n",
      "\n",
      " player total chips are at 110\n",
      "Would you like to play another hand? y or nn\n",
      "Thanks for playing\n"
     ]
    }
   ],
   "source": [
    "while True:\n",
    "    print('welcome to Black Jack')\n",
    "    # TODO\n",
    "    pass\n",
    "        \n",
    "            "
   ]
  },
  {
   "cell_type": "code",
   "execution_count": null,
   "metadata": {},
   "outputs": [],
   "source": []
  }
 ],
 "metadata": {
  "kernelspec": {
   "display_name": "Python 3",
   "language": "python",
   "name": "python3"
  },
  "language_info": {
   "codemirror_mode": {
    "name": "ipython",
    "version": 3
   },
   "file_extension": ".py",
   "mimetype": "text/x-python",
   "name": "python",
   "nbconvert_exporter": "python",
   "pygments_lexer": "ipython3",
   "version": "3.8.5"
  }
 },
 "nbformat": 4,
 "nbformat_minor": 4
}

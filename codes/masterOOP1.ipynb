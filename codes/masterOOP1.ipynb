{
  "nbformat": 4,
  "nbformat_minor": 0,
  "metadata": {
    "colab": {
      "provenance": []
    },
    "kernelspec": {
      "name": "python3",
      "display_name": "Python 3"
    },
    "language_info": {
      "name": "python"
    }
  },
  "cells": [
    {
      "cell_type": "code",
      "execution_count": 1,
      "metadata": {
        "id": "GnlaUDgOSQ8p"
      },
      "outputs": [],
      "source": [
        "class Person:\n",
        "    def __init__(self, name, age):\n",
        "        self.name = name\n",
        "        self.age = age\n",
        "\n",
        "    def __str__(self):\n",
        "        return f\"{self.name}, aged {self.age}\"\n",
        "\n",
        "    def __repr__(self):\n",
        "        return f\"Person('{self.name}', {self.age})\""
      ]
    },
    {
      "cell_type": "code",
      "source": [
        "# Usage\n",
        "p = Person(\"Alice\", 30)\n",
        "print(str(p))  # Output: Alice, aged 30\n",
        "print(repr(p)) # Output: Person('Alice', 30)"
      ],
      "metadata": {
        "colab": {
          "base_uri": "https://localhost:8080/"
        },
        "id": "fGnasC7uSX_M",
        "outputId": "4c9094a8-3c8e-4252-b144-533d5b793523"
      },
      "execution_count": 2,
      "outputs": [
        {
          "output_type": "stream",
          "name": "stdout",
          "text": [
            "Alice, aged 30\n",
            "Person('Alice', 30)\n"
          ]
        }
      ]
    },
    {
      "cell_type": "markdown",
      "source": [
        "\n",
        "\n",
        "\n",
        "\n",
        "```\n",
        "__eq__(self, other): Equality (==).\n",
        "__ne__(self, other): Inequality (!=).\n",
        "__lt__(self, other): Less than (<).\n",
        "__le__(self, other): Less than or equal to (<=).\n",
        "__gt__(self, other): Greater than (>).\n",
        "__ge__(self, other): Greater than or equal to (>=).\n",
        "```\n",
        "\n"
      ],
      "metadata": {
        "id": "xol_KJpBSjbd"
      }
    },
    {
      "cell_type": "markdown",
      "source": [
        "# Comparison Magic Methods"
      ],
      "metadata": {
        "id": "zkL6c4hwTIQz"
      }
    },
    {
      "cell_type": "code",
      "source": [
        "class Book:\n",
        "    def __init__(self, title, author):\n",
        "        self.title = title\n",
        "        self.author = author\n",
        "\n",
        "    def __eq__(self, other):\n",
        "        return self.title == other.title and self.author == other.author\n"
      ],
      "metadata": {
        "id": "bLAe6tWLSafj"
      },
      "execution_count": 3,
      "outputs": []
    },
    {
      "cell_type": "code",
      "source": [
        "# Usage\n",
        "book1 = Book(\"1984\", \"George Orwell\")\n",
        "book2 = Book(\"1984\", \"George Orwell\")\n",
        "print(book1 == book2)  # Output: True"
      ],
      "metadata": {
        "colab": {
          "base_uri": "https://localhost:8080/"
        },
        "id": "WrBhrjMITEE_",
        "outputId": "ce8092a2-6ceb-4327-b1ae-17ab24f928b0"
      },
      "execution_count": 4,
      "outputs": [
        {
          "output_type": "stream",
          "name": "stdout",
          "text": [
            "True\n"
          ]
        }
      ]
    },
    {
      "cell_type": "markdown",
      "source": [
        "# Arithmetic and Bitwise Magic Methods"
      ],
      "metadata": {
        "id": "bOTLFI44TKTS"
      }
    },
    {
      "cell_type": "markdown",
      "source": [
        "\n",
        "\n",
        "```\n",
        "__add__(self, other): Addition (+).\n",
        "__sub__(self, other): Subtraction (-).\n",
        "__mul__(self, other): Multiplication (*).\n",
        "__truediv__(self, other): Division (/).\n",
        "__floordiv__(self, other): Floor Division (//).\n",
        "__mod__(self, other): Modulus (%).\n",
        "__pow__(self, other[, modulo]): Power (**).\n",
        "__and__(self, other) : Bitwise AND operator (&)\n",
        "__invert__(self): Bitwise inversion.\n",
        "__or__(self, other) : OR operator(or)\n",
        "__xor__(self, other) : Bitwise OR (XOR) operator(^)\n",
        "```\n",
        "\n"
      ],
      "metadata": {
        "id": "u8k8c-EgTKPy"
      }
    },
    {
      "cell_type": "code",
      "source": [
        "class Vector:\n",
        "    def __init__(self, x, y):\n",
        "        self.x = x\n",
        "        self.y = y\n",
        "\n",
        "    def __add__(self, other):\n",
        "        return Vector(self.x + other.x, self.y + other.y)\n"
      ],
      "metadata": {
        "id": "aZFJY-mNTVeR"
      },
      "execution_count": 5,
      "outputs": []
    },
    {
      "cell_type": "code",
      "source": [
        "# Usage\n",
        "v1 = Vector(2, 4)\n",
        "v2 = Vector(1, 3)\n",
        "v3 = v1 + v2\n",
        "print(v3.x, v3.y)  # Output: 3 7"
      ],
      "metadata": {
        "colab": {
          "base_uri": "https://localhost:8080/"
        },
        "id": "HNpmx6XVTXNJ",
        "outputId": "5d87fc06-9082-45f6-e931-cadad4609d9e"
      },
      "execution_count": 6,
      "outputs": [
        {
          "output_type": "stream",
          "name": "stdout",
          "text": [
            "3 7\n"
          ]
        }
      ]
    },
    {
      "cell_type": "markdown",
      "source": [
        "# Numeric Type Conversion"
      ],
      "metadata": {
        "id": "6yi2XK0iTbQJ"
      }
    },
    {
      "cell_type": "markdown",
      "source": [
        "\n",
        "\n",
        "```\n",
        "__int__(self) , __float__(self) , __complex__(self) , etc., for type\n",
        "```\n",
        "\n"
      ],
      "metadata": {
        "id": "eBDU3283Tf35"
      }
    },
    {
      "cell_type": "markdown",
      "source": [
        "# Attribute Access and Descriptor Methods"
      ],
      "metadata": {
        "id": "95LjzBhpTj6I"
      }
    },
    {
      "cell_type": "markdown",
      "source": [
        "\n",
        "\n",
        "```\n",
        "__getattr__(self, name), __setattr__(self, name, value), and __delattr__(self, name): Customize attribute access.\n",
        "__getattribute__(self, name): Called unconditionally to implement attribute access.\n",
        "__get__(self, instance, owner), __set__(self, instance, value), __delete__(self, instance): Implement descriptor protocol.\n",
        "```\n",
        "\n"
      ],
      "metadata": {
        "id": "Gx0phbyDToKq"
      }
    },
    {
      "cell_type": "code",
      "source": [
        "class ProtectedAttributes:\n",
        "    def __init__(self):\n",
        "        self._protected = \"This is protected\"\n",
        "\n",
        "    def __getattr__(self, name):\n",
        "        if name == \"secret\":\n",
        "            raise AttributeError(\"Access Denied\")\n",
        "        return self.__dict__.get(name, f\"{name} not found\")\n",
        "\n",
        "    def __setattr__(self, name, value):\n",
        "        if name == \"secret\":\n",
        "            raise AttributeError(\"Cannot modify secret\")\n",
        "        self.__dict__[name] = value\n",
        "\n",
        "    def __delattr__(self, name):\n",
        "        if name == \"secret\":\n",
        "            raise AttributeError(\"Cannot delete secret\")\n",
        "        del self.__dict__[name]"
      ],
      "metadata": {
        "id": "UM0vhNUjTXKB"
      },
      "execution_count": 7,
      "outputs": []
    },
    {
      "cell_type": "code",
      "source": [
        "# Usage\n",
        "obj = ProtectedAttributes()\n",
        "print(obj._protected)  # Access allowed\n",
        "print(obj.missing)     # Outputs \"missing not found\"\n",
        "# obj.secret            # Raises AttributeError: Access Denied\n",
        "# obj.secret = \"New\"    # Raises AttributeError: Cannot modify secret"
      ],
      "metadata": {
        "colab": {
          "base_uri": "https://localhost:8080/"
        },
        "id": "Zy91p5hFTFuu",
        "outputId": "d68af7b2-5808-4ba7-8944-33186bac23e8"
      },
      "execution_count": 11,
      "outputs": [
        {
          "output_type": "stream",
          "name": "stdout",
          "text": [
            "This is protected\n",
            "missing not found\n"
          ]
        }
      ]
    },
    {
      "cell_type": "markdown",
      "source": [
        "# Container Magic Methods"
      ],
      "metadata": {
        "id": "6s9TmG6XUSP2"
      }
    },
    {
      "cell_type": "markdown",
      "source": [
        "\n",
        "\n",
        "```\n",
        "__len__(self): Returns the length of the container. Part of the protocol for both sequences and mappings.\n",
        "__getitem__(self, key): Defines behavior for accessing an item (obj[key]).\n",
        "__setitem__(self, key, value): Assigns a value to an item (obj[key] = value).\n",
        "__delitem__(self, key): Deletes an item (del obj[key]).\n",
        "__iter__(self): Should return an iterator for the container.\n",
        "__contains__(self, item): Checks if the container contains item.\n",
        "```\n",
        "\n"
      ],
      "metadata": {
        "id": "BO4DYuCJUUOV"
      }
    },
    {
      "cell_type": "code",
      "source": [
        "class Library:\n",
        "    def __init__(self, books):\n",
        "        self.books = books\n",
        "\n",
        "    def __len__(self):\n",
        "        return len(self.books)\n",
        "\n",
        "    def __getitem__(self, index):\n",
        "        return self.books[index]"
      ],
      "metadata": {
        "id": "zomsOjo7T4mH"
      },
      "execution_count": 12,
      "outputs": []
    },
    {
      "cell_type": "code",
      "source": [
        "# Usage\n",
        "library = Library([\"Book1\", \"Book2\", \"Book3\"])\n",
        "print(len(library))        # Output: 3\n",
        "print(library[1])          # Output: Book2"
      ],
      "metadata": {
        "colab": {
          "base_uri": "https://localhost:8080/"
        },
        "id": "aaQzGABBVK_E",
        "outputId": "ef3d018d-be0f-4d27-81e6-007fd0851162"
      },
      "execution_count": 13,
      "outputs": [
        {
          "output_type": "stream",
          "name": "stdout",
          "text": [
            "3\n",
            "Book2\n"
          ]
        }
      ]
    },
    {
      "cell_type": "markdown",
      "source": [
        "# Context Managers"
      ],
      "metadata": {
        "id": "W2VIRw2uVUL5"
      }
    },
    {
      "cell_type": "markdown",
      "source": [
        "\n",
        "\n",
        "```\n",
        "__enter__(self) (__aenter__(self)): Called at the beginning of a with block. It sets up the context and optionally returns an object that is bound to the variable after the as keyword in the with statement\n",
        "__exit__(self, exc_type, exc_val, exc_tb) (__aexit__(self, exc_type, exc_val, exc_tv)): Called after the with block. It handles the teardown of the context, like closing a file or releasing a lock. This method receives three arguments (exc_type, exc_val, exc_tb), which are used to manage exceptions raised within the with block.\n",
        "```\n",
        "\n"
      ],
      "metadata": {
        "id": "4d1VRFCLVXaJ"
      }
    },
    {
      "cell_type": "code",
      "source": [
        "!pip install aiofiles"
      ],
      "metadata": {
        "colab": {
          "base_uri": "https://localhost:8080/"
        },
        "id": "igyU2-1UVg3w",
        "outputId": "6f3b128d-0b08-4457-d96a-b5a2107a9740"
      },
      "execution_count": 15,
      "outputs": [
        {
          "output_type": "stream",
          "name": "stdout",
          "text": [
            "Collecting aiofiles\n",
            "  Downloading aiofiles-23.2.1-py3-none-any.whl (15 kB)\n",
            "Installing collected packages: aiofiles\n",
            "Successfully installed aiofiles-23.2.1\n"
          ]
        }
      ]
    },
    {
      "cell_type": "code",
      "source": [
        "class AsyncFileHandler:\n",
        "    def __init__(self, filename, mode):\n",
        "        self.filename = filename\n",
        "        self.mode = mode\n",
        "        self.file = None\n",
        "\n",
        "    async def __aenter__(self):\n",
        "        self.file = await aiofiles.open(self.filename, self.mode)\n",
        "        return self.file\n",
        "\n",
        "    async def __aexit__(self, exc_type, exc_val, exc_tb):\n",
        "        await self.file.close()\n",
        "\n",
        "\n",
        "# Usage with asyncio and aiofiles\n",
        "import asyncio\n",
        "import aiofiles\n",
        "\n",
        "\n",
        "async def main():\n",
        "    async with AsyncFileHandler('example.txt', 'w') as f:\n",
        "        await f.write('Hello, async world!')\n",
        "\n",
        "\n",
        "asyncio.run(main())"
      ],
      "metadata": {
        "colab": {
          "base_uri": "https://localhost:8080/",
          "height": 436
        },
        "id": "NFT5uDG1VPm4",
        "outputId": "2bf050f5-29bb-4ae0-ee00-9d84b5f04f6c"
      },
      "execution_count": 19,
      "outputs": [
        {
          "output_type": "stream",
          "name": "stderr",
          "text": [
            "Exception ignored in: <coroutine object main at 0x79474b8a8120>\n",
            "Traceback (most recent call last):\n",
            "  File \"<string>\", line 1, in <lambda>\n",
            "KeyError: '__import__'\n",
            "Exception ignored in: <coroutine object main at 0x79474b8a8120>\n",
            "Traceback (most recent call last):\n",
            "  File \"<string>\", line 1, in <lambda>\n",
            "KeyError: '__import__'\n"
          ]
        },
        {
          "output_type": "error",
          "ename": "RuntimeError",
          "evalue": "asyncio.run() cannot be called from a running event loop",
          "traceback": [
            "\u001b[0;31m---------------------------------------------------------------------------\u001b[0m",
            "\u001b[0;31mRuntimeError\u001b[0m                              Traceback (most recent call last)",
            "\u001b[0;32m<ipython-input-19-f08208ef2a11>\u001b[0m in \u001b[0;36m<cell line: 25>\u001b[0;34m()\u001b[0m\n\u001b[1;32m     23\u001b[0m \u001b[0;34m\u001b[0m\u001b[0m\n\u001b[1;32m     24\u001b[0m \u001b[0;34m\u001b[0m\u001b[0m\n\u001b[0;32m---> 25\u001b[0;31m \u001b[0masyncio\u001b[0m\u001b[0;34m.\u001b[0m\u001b[0mrun\u001b[0m\u001b[0;34m(\u001b[0m\u001b[0mmain\u001b[0m\u001b[0;34m(\u001b[0m\u001b[0;34m)\u001b[0m\u001b[0;34m)\u001b[0m\u001b[0;34m\u001b[0m\u001b[0;34m\u001b[0m\u001b[0m\n\u001b[0m",
            "\u001b[0;32m/usr/lib/python3.10/asyncio/runners.py\u001b[0m in \u001b[0;36mrun\u001b[0;34m(main, debug)\u001b[0m\n\u001b[1;32m     31\u001b[0m     \"\"\"\n\u001b[1;32m     32\u001b[0m     \u001b[0;32mif\u001b[0m \u001b[0mevents\u001b[0m\u001b[0;34m.\u001b[0m\u001b[0m_get_running_loop\u001b[0m\u001b[0;34m(\u001b[0m\u001b[0;34m)\u001b[0m \u001b[0;32mis\u001b[0m \u001b[0;32mnot\u001b[0m \u001b[0;32mNone\u001b[0m\u001b[0;34m:\u001b[0m\u001b[0;34m\u001b[0m\u001b[0;34m\u001b[0m\u001b[0m\n\u001b[0;32m---> 33\u001b[0;31m         raise RuntimeError(\n\u001b[0m\u001b[1;32m     34\u001b[0m             \"asyncio.run() cannot be called from a running event loop\")\n\u001b[1;32m     35\u001b[0m \u001b[0;34m\u001b[0m\u001b[0m\n",
            "\u001b[0;31mRuntimeError\u001b[0m: asyncio.run() cannot be called from a running event loop"
          ]
        }
      ]
    },
    {
      "cell_type": "code",
      "source": [
        "with open('test.py','w') as f:\n",
        "  text = \"\"\"\n",
        "class AsyncFileHandler:\n",
        "    def __init__(self, filename, mode):\n",
        "        self.filename = filename\n",
        "        self.mode = mode\n",
        "        self.file = None\n",
        "\n",
        "    async def __aenter__(self):\n",
        "        self.file = await aiofiles.open(self.filename, self.mode)\n",
        "        return self.file\n",
        "\n",
        "    async def __aexit__(self, exc_type, exc_val, exc_tb):\n",
        "        await self.file.close()\n",
        "\n",
        "\n",
        "# Usage with asyncio and aiofiles\n",
        "import asyncio\n",
        "import aiofiles\n",
        "\n",
        "\n",
        "async def main():\n",
        "    async with AsyncFileHandler('example.txt', 'w') as f:\n",
        "        await f.write('Hello, async world!')\n",
        "\n",
        "\n",
        "asyncio.run(main())\n",
        "\"\"\"\n",
        "  f.write(text)"
      ],
      "metadata": {
        "id": "pCDAlTFBVd-I"
      },
      "execution_count": 21,
      "outputs": []
    },
    {
      "cell_type": "code",
      "source": [
        "!python test.py"
      ],
      "metadata": {
        "id": "c9AGwgWQVwtY"
      },
      "execution_count": 22,
      "outputs": []
    },
    {
      "cell_type": "markdown",
      "source": [
        "# Callable Objects"
      ],
      "metadata": {
        "id": "NuGRL6HvW5OD"
      }
    },
    {
      "cell_type": "markdown",
      "source": [
        "\n",
        "\n",
        "```\n",
        "__call__(self, [...]): Allows an instance of a class to be called as a function (def / async def).\n",
        "```\n",
        "\n"
      ],
      "metadata": {
        "id": "xIFezGG5W8oK"
      }
    },
    {
      "cell_type": "code",
      "source": [
        "with open('test2.py','w') as f:\n",
        "  text = \"\"\"\n",
        "import asyncio\n",
        "\n",
        "\n",
        "class AsyncAdder:\n",
        "    def __init__(self, value):\n",
        "        self.value = value\n",
        "\n",
        "    async def __call__(self, x):\n",
        "        await asyncio.sleep(1)  # Simulate an async operation\n",
        "        return self.value + x\n",
        "\n",
        "\n",
        "# Usage in an async context\n",
        "async def main():\n",
        "    add_ten = AsyncAdder(10)\n",
        "    result = await add_ten(20)  # Awaits the __call__ method\n",
        "    print(result)  # Output: 30\n",
        "\n",
        "\n",
        "asyncio.run(main())\n",
        "\"\"\"\n",
        "  f.write(text)"
      ],
      "metadata": {
        "id": "0GYO8OdlWxRq"
      },
      "execution_count": 24,
      "outputs": []
    },
    {
      "cell_type": "code",
      "source": [
        "!python test2.py"
      ],
      "metadata": {
        "colab": {
          "base_uri": "https://localhost:8080/"
        },
        "id": "ZOievhChW_2I",
        "outputId": "a1b68275-01fe-419f-b1c5-ac9833ee4ef0"
      },
      "execution_count": 25,
      "outputs": [
        {
          "output_type": "stream",
          "name": "stdout",
          "text": [
            "30\n"
          ]
        }
      ]
    },
    {
      "cell_type": "markdown",
      "source": [
        "# Unary Operations and More"
      ],
      "metadata": {
        "id": "yfnxHGLHXNMz"
      }
    },
    {
      "cell_type": "markdown",
      "source": [
        "\n",
        "\n",
        "```\n",
        "__neg__(self): Negative (-obj).\n",
        "__pos__(self): Unary plus (+obj).\n",
        "__abs__(self): Absolute value (abs(obj)).\n",
        "```\n",
        "\n"
      ],
      "metadata": {
        "id": "zo9gBHhIXQFR"
      }
    },
    {
      "cell_type": "markdown",
      "source": [
        "# Using `__slots__`\n",
        "What are `__slots__?`\n",
        "`__slots__` is a special class attribute in Python. By defining `__slots__` in a class, you explicitly declare that instances of that class will have a fixed set of attributes. This restricts the dynamic creation of new attributes and can lead to significant memory savings, especially for programs creating many instances of a class.\n",
        "\n",
        "# How to Use `__slots__`\n",
        "You define `__slots__` as an iterable (like a list or tuple) of strings that represent the names of the attributes.\n",
        "\n",
        "Example: Using `__slots__` in a Class"
      ],
      "metadata": {
        "id": "8d8Ima4zXXFK"
      }
    },
    {
      "cell_type": "code",
      "source": [
        "class Player:\n",
        "    __slots__ = ['name', 'score']\n",
        "\n",
        "    def __init__(self, name, score):\n",
        "        self.name = name\n",
        "        self.score = score\n",
        "\n",
        "\n",
        "# Usage\n",
        "player1 = Player(\"Alice\", 100)\n",
        "player1.name   # Accessible\n",
        "player1.score  # Accessible\n",
        "# player1.age = 25  # AttributeError: 'Player' object has no attribute 'age'"
      ],
      "metadata": {
        "colab": {
          "base_uri": "https://localhost:8080/"
        },
        "id": "cFNna_x3XJVo",
        "outputId": "0dff6677-3ab3-4d3b-a353-4a44455c7e01"
      },
      "execution_count": 27,
      "outputs": [
        {
          "output_type": "execute_result",
          "data": {
            "text/plain": [
              "100"
            ]
          },
          "metadata": {},
          "execution_count": 27
        }
      ]
    },
    {
      "cell_type": "markdown",
      "source": [
        "# Benefits of Using `__slots__`\n",
        "* Memory Efficiency: By preventing the creation of `__dict__` and\n",
        "`__weakref__ `for each instance, `__slots__ `can lead to significant memory savings, especially with a large number of instances.\n",
        "* Faster Attribute Access: Access to slot attributes is faster than accessing attributes stored in a `__dict__`.\n",
        "# Considerations and Limitations\n",
        "* Inheritance: If a class inherits from another class without `__slots__`, it will still have a `__dict__` attribute.\n",
        "* Immutability: `__slots__` only defines a fixed set of attributes. You cannot add new attributes to instances of the class (though the existing attributes can be modified if not made read-only).\n",
        "* No Default `__weakref__`: If you need weak references to your objects, you'll need to include '`__weakref__`' in `__slots__`.\n",
        "# Best Practices\n",
        "* Use `__slots__` when you are sure about the fixed structure of your objects, and you have a large number of instances where memory savings will be significant.\n",
        "* Avoid using `__slots__ `if you need dynamic assignment of new attributes or if the class is meant to be subclassed by unknown users' classes.\n",
        "By incorporating `__slots__ `into your classes, you can create more memory-efficient and performant Python applications, especially in scenarios where you're dealing with millions of object instances with a fixed attribute structure."
      ],
      "metadata": {
        "id": "I6PUGxArXv3n"
      }
    },
    {
      "cell_type": "markdown",
      "source": [
        "# Classmethod and Staticmethod Decorator\n",
        "Another advanced concept in **Python OOP** is the use of classmethod and staticmethod decorators. These decorators modify methods in a class to change how they can be called and what data they can access.\n",
        "\n",
        "# Understanding @classmethod\n",
        "The @classmethod decorator is used to create a method that is bound to the class and not the instance of the class. This means it can access the class attributes but not the instance attributes. The first parameter of a class method is usually named cls, which refers to the class itself.\n",
        "\n",
        "# Benefits:\n",
        "\n",
        "* Class methods can be called on the class itself, not just on instances.\n",
        "* They are commonly used for factory methods, which return an instance of the class.\n",
        "Example: Using @classmethod as a Factory"
      ],
      "metadata": {
        "id": "E_qMoKjnYXvl"
      }
    },
    {
      "cell_type": "code",
      "source": [
        "class Person:\n",
        "    def __init__(self, name):\n",
        "        self.name = name\n",
        "\n",
        "    @classmethod\n",
        "    def from_full_name(cls, full_name):\n",
        "        name = full_name.split()[0]\n",
        "        return cls(name)\n",
        "\n",
        "\n",
        "# Usage\n",
        "john = Person.from_full_name(\"John Doe\")\n",
        "print(john.name)  # Output: John"
      ],
      "metadata": {
        "colab": {
          "base_uri": "https://localhost:8080/"
        },
        "id": "zURkHgI4XlO4",
        "outputId": "c00cfc38-84c2-4ff1-cc8a-5ad3952df4d2"
      },
      "execution_count": 28,
      "outputs": [
        {
          "output_type": "stream",
          "name": "stdout",
          "text": [
            "John\n"
          ]
        }
      ]
    },
    {
      "cell_type": "markdown",
      "source": [
        "In this example, from_full_name is a class method that creates an instance of Person using a full name."
      ],
      "metadata": {
        "id": "oM7M0pduYoeL"
      }
    },
    {
      "cell_type": "markdown",
      "source": [
        "# Understanding @staticmethod\n",
        "The @staticmethod decorator is used to create a method that doesn't access instance or class data. Static methods do not receive an implicit first argument (neither self nor cls).\n",
        "\n",
        "# Benefits:\n",
        "\n",
        "* Static methods can be called on the class itself, similar to class methods.\n",
        "* Useful for utility functions that perform a task in isolation.\n",
        "Example: Using @staticmethod"
      ],
      "metadata": {
        "id": "uoVaRxhrYrEb"
      }
    },
    {
      "cell_type": "code",
      "source": [
        "class TemperatureConverter:\n",
        "    @staticmethod\n",
        "    def celsius_to_fahrenheit(celsius):\n",
        "        return (celsius * 9/5) + 32\n",
        "\n",
        "\n",
        "# Usage\n",
        "fahrenheit = TemperatureConverter.celsius_to_fahrenheit(0)\n",
        "print(fahrenheit)  # Output: 32.0"
      ],
      "metadata": {
        "colab": {
          "base_uri": "https://localhost:8080/"
        },
        "id": "5F5P654ZYjnj",
        "outputId": "8fbd9409-3373-4e2b-a236-aa2fb23cff58"
      },
      "execution_count": 29,
      "outputs": [
        {
          "output_type": "stream",
          "name": "stdout",
          "text": [
            "32.0\n"
          ]
        }
      ]
    },
    {
      "cell_type": "markdown",
      "source": [
        "In this example, celsius_to_fahrenheit is a static method because it simply performs a calculation without needing any data from a TemperatureConverter instance or class.\n",
        "\n",
        "# Best Practices and Considerations:\n",
        "* Use @classmethod when you need access to class attributes or when you need to instantiate the class in the method (like factory methods).\n",
        "* Use @staticmethod when the method does not interact with the class or its instances, and it serves as a utility function.\n",
        "Both decorators enhance the readability and organization of your code by clearly indicating the purpose of the method to other developers. They are a vital part of writing clean, maintainable, and well-structured object-oriented code in Python.\n",
        "\n",
        "# Property Decorators\n",
        "Property decorators play a crucial role. They allow for the management of class attributes by providing a way to implement getter, setter, and deleter methods, encapsulating the internal representation of attributes and offering a Pythonic way for attribute access and mutation.\n",
        "\n",
        "# Understanding Property Decorators\n",
        "The @property decorator turns a method into a \"getter\" for a read-only attribute with the same name. To add corresponding \"setter\" and \"deleter\" functionality, you can decorate additional methods with @<attribute>.setter and @<attribute>.deleter.\n",
        "\n",
        "# Getter Method\n",
        "A getter method is used to access the value of an attribute without directly exposing the attribute itself.\n",
        "\n",
        "Example: Getter for a Temperature Class"
      ],
      "metadata": {
        "id": "WjO2vLUgY-Ny"
      }
    },
    {
      "cell_type": "code",
      "source": [
        "class Temperature:\n",
        "    def __init__(self, celsius):\n",
        "        self._celsius = celsius\n",
        "\n",
        "    @property\n",
        "    def celsius(self):\n",
        "        return self._celsius\n",
        "\n",
        "\n",
        "# Usage\n",
        "temp = Temperature(100)\n",
        "print(temp.celsius)  # 100"
      ],
      "metadata": {
        "colab": {
          "base_uri": "https://localhost:8080/"
        },
        "id": "J2m3Ue86Yz9k",
        "outputId": "09e41dfb-ac16-48a2-cc1a-446bdede1056"
      },
      "execution_count": 30,
      "outputs": [
        {
          "output_type": "stream",
          "name": "stdout",
          "text": [
            "100\n"
          ]
        }
      ]
    },
    {
      "cell_type": "markdown",
      "source": [
        "In this example, celsius is a property, and its value is accessed via the getter method.\n",
        "\n",
        "# Setter Method\n",
        "A setter method is used to set the value of an attribute. It provides a controlled way of setting attributes, allowing for validation or computation.\n",
        "\n",
        "Example: Setter for Temperature Class"
      ],
      "metadata": {
        "id": "HDeuhvI1ZMsB"
      }
    },
    {
      "cell_type": "code",
      "source": [
        "class Temperature:\n",
        "\n",
        "    def __init__(self, celsius):\n",
        "        self._celsius = celsius\n",
        "\n",
        "    @property\n",
        "    def celsius(self):\n",
        "        return self._celsius\n",
        "    @celsius.setter\n",
        "    def celsius(self, value):\n",
        "        if value < -273.15:\n",
        "            raise ValueError(\"Temperature below absolute zero!\")\n",
        "        self._celsius = value\n",
        "\n",
        "\n",
        "# Usage\n",
        "temp = Temperature(0)\n",
        "temp.celsius = -300  # Raises ValueError"
      ],
      "metadata": {
        "colab": {
          "base_uri": "https://localhost:8080/",
          "height": 297
        },
        "id": "8gz06G9LZKQA",
        "outputId": "c1aad725-42e4-4a74-dcab-8f8df4c8803e"
      },
      "execution_count": 32,
      "outputs": [
        {
          "output_type": "error",
          "ename": "ValueError",
          "evalue": "Temperature below absolute zero!",
          "traceback": [
            "\u001b[0;31m---------------------------------------------------------------------------\u001b[0m",
            "\u001b[0;31mValueError\u001b[0m                                Traceback (most recent call last)",
            "\u001b[0;32m<ipython-input-32-096342ebb754>\u001b[0m in \u001b[0;36m<cell line: 18>\u001b[0;34m()\u001b[0m\n\u001b[1;32m     16\u001b[0m \u001b[0;31m# Usage\u001b[0m\u001b[0;34m\u001b[0m\u001b[0;34m\u001b[0m\u001b[0m\n\u001b[1;32m     17\u001b[0m \u001b[0mtemp\u001b[0m \u001b[0;34m=\u001b[0m \u001b[0mTemperature\u001b[0m\u001b[0;34m(\u001b[0m\u001b[0;36m0\u001b[0m\u001b[0;34m)\u001b[0m\u001b[0;34m\u001b[0m\u001b[0;34m\u001b[0m\u001b[0m\n\u001b[0;32m---> 18\u001b[0;31m \u001b[0mtemp\u001b[0m\u001b[0;34m.\u001b[0m\u001b[0mcelsius\u001b[0m \u001b[0;34m=\u001b[0m \u001b[0;34m-\u001b[0m\u001b[0;36m300\u001b[0m  \u001b[0;31m# Raises ValueError\u001b[0m\u001b[0;34m\u001b[0m\u001b[0;34m\u001b[0m\u001b[0m\n\u001b[0m",
            "\u001b[0;32m<ipython-input-32-096342ebb754>\u001b[0m in \u001b[0;36mcelsius\u001b[0;34m(self, value)\u001b[0m\n\u001b[1;32m     10\u001b[0m     \u001b[0;32mdef\u001b[0m \u001b[0mcelsius\u001b[0m\u001b[0;34m(\u001b[0m\u001b[0mself\u001b[0m\u001b[0;34m,\u001b[0m \u001b[0mvalue\u001b[0m\u001b[0;34m)\u001b[0m\u001b[0;34m:\u001b[0m\u001b[0;34m\u001b[0m\u001b[0;34m\u001b[0m\u001b[0m\n\u001b[1;32m     11\u001b[0m         \u001b[0;32mif\u001b[0m \u001b[0mvalue\u001b[0m \u001b[0;34m<\u001b[0m \u001b[0;34m-\u001b[0m\u001b[0;36m273.15\u001b[0m\u001b[0;34m:\u001b[0m\u001b[0;34m\u001b[0m\u001b[0;34m\u001b[0m\u001b[0m\n\u001b[0;32m---> 12\u001b[0;31m             \u001b[0;32mraise\u001b[0m \u001b[0mValueError\u001b[0m\u001b[0;34m(\u001b[0m\u001b[0;34m\"Temperature below absolute zero!\"\u001b[0m\u001b[0;34m)\u001b[0m\u001b[0;34m\u001b[0m\u001b[0;34m\u001b[0m\u001b[0m\n\u001b[0m\u001b[1;32m     13\u001b[0m         \u001b[0mself\u001b[0m\u001b[0;34m.\u001b[0m\u001b[0m_celsius\u001b[0m \u001b[0;34m=\u001b[0m \u001b[0mvalue\u001b[0m\u001b[0;34m\u001b[0m\u001b[0;34m\u001b[0m\u001b[0m\n\u001b[1;32m     14\u001b[0m \u001b[0;34m\u001b[0m\u001b[0m\n",
            "\u001b[0;31mValueError\u001b[0m: Temperature below absolute zero!"
          ]
        }
      ]
    },
    {
      "cell_type": "markdown",
      "source": [
        "In this example, setting the celsius property is managed by the setter method, which includes validation.\n",
        "\n",
        "# Deleter Method\n",
        "A deleter method is used to delete an attribute. It’s useful when deleting an attribute requires more than just removing it from the object’s __dict__.\n",
        "\n",
        "Example: Deleter for Temperature Class"
      ],
      "metadata": {
        "id": "_595-7jtZmRp"
      }
    },
    {
      "cell_type": "code",
      "source": [
        "class Temperature:\n",
        "    def __init__(self, celsius):\n",
        "        self._celsius = celsius\n",
        "\n",
        "    @property\n",
        "    def celsius(self):\n",
        "        return self._celsius\n",
        "    @celsius.setter\n",
        "    def celsius(self, value):\n",
        "        if value < -273.15:\n",
        "            raise ValueError(\"Temperature below absolute zero!\")\n",
        "        self._celsius = value\n",
        "\n",
        "    @celsius.deleter\n",
        "    def celsius(self):\n",
        "        print(\"Deleting celsius\")\n",
        "        del self._celsius\n",
        "\n",
        "\n",
        "# Usage\n",
        "temp = Temperature(50)\n",
        "del temp.celsius  # \"Deleting celsius\""
      ],
      "metadata": {
        "colab": {
          "base_uri": "https://localhost:8080/"
        },
        "id": "rdBWDkLnZP2W",
        "outputId": "7110cd26-40dc-4580-bc4b-5d07d17cfdc1"
      },
      "execution_count": 34,
      "outputs": [
        {
          "output_type": "stream",
          "name": "stdout",
          "text": [
            "Deleting celsius\n"
          ]
        }
      ]
    },
    {
      "cell_type": "markdown",
      "source": [
        "In this example, the deleter for celsius provides a controlled way to delete the _celsius attribute.\n",
        "\n",
        "# Benefits and Best Practices\n",
        "* Encapsulation: Property decorators help in encapsulating data and validation logic inside a class, adhering to the principles of encapsulation.\n",
        "* Readability and Maintenance: They enhance readability and make maintenance easier, as changes to the attribute handling can be made in one place.\n",
        "* Backward Compatibility: They allow you to introduce getter and setter methods without changing the class interface.\n",
        "Property decorators are a powerful feature in Python for controlling attribute access and manipulation in a class, ensuring that the principles of encapsulation and abstraction are not violated. They provide a clean and Pythonic way to manage class attributes, making your code more robust, readable, and maintainable."
      ],
      "metadata": {
        "id": "27uIfZv7Z5vG"
      }
    },
    {
      "cell_type": "code",
      "source": [],
      "metadata": {
        "id": "4kUBfwilZrdB"
      },
      "execution_count": null,
      "outputs": []
    }
  ]
}
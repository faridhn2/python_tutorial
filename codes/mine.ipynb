{
  "nbformat": 4,
  "nbformat_minor": 0,
  "metadata": {
    "colab": {
      "provenance": []
    },
    "kernelspec": {
      "name": "python3",
      "display_name": "Python 3"
    },
    "language_info": {
      "name": "python"
    }
  },
  "cells": [
    {
      "cell_type": "code",
      "execution_count": 1,
      "metadata": {
        "colab": {
          "base_uri": "https://localhost:8080/"
        },
        "id": "AoqpjICaWZkc",
        "outputId": "48058529-2a0b-4ac5-b6e4-6fe7f2bfb5c8"
      },
      "outputs": [
        {
          "output_type": "stream",
          "name": "stdout",
          "text": [
            "Cloning into 'minesweeper'...\n",
            "remote: Enumerating objects: 6, done.\u001b[K\n",
            "remote: Counting objects: 100% (6/6), done.\u001b[K\n",
            "remote: Compressing objects: 100% (5/5), done.\u001b[K\n",
            "remote: Total 6 (delta 0), reused 0 (delta 0), pack-reused 0\u001b[K\n",
            "Receiving objects: 100% (6/6), 5.61 KiB | 1.87 MiB/s, done.\n"
          ]
        }
      ],
      "source": [
        "!git clone https://gitlab.com/faridhn/minesweeper.git"
      ]
    },
    {
      "cell_type": "code",
      "source": [
        "%cd minesweeper/"
      ],
      "metadata": {
        "colab": {
          "base_uri": "https://localhost:8080/"
        },
        "id": "S6vG9gA1We7Y",
        "outputId": "4e115acc-c279-4083-e7ed-e4f2b5df3a04"
      },
      "execution_count": 2,
      "outputs": [
        {
          "output_type": "stream",
          "name": "stdout",
          "text": [
            "/content/minesweeper\n"
          ]
        }
      ]
    },
    {
      "cell_type": "code",
      "source": [
        "!python main.cpython-310.pyc"
      ],
      "metadata": {
        "colab": {
          "base_uri": "https://localhost:8080/"
        },
        "id": "EP4kQZsGWkCu",
        "outputId": "d5a37036-c7cd-419f-834c-d603bdd2eb89"
      },
      "execution_count": 4,
      "outputs": [
        {
          "output_type": "stream",
          "name": "stdout",
          "text": [
            "     a   b   c   d   e   f   g   h   i   \n",
            "   -------------------------------------\n",
            " 1 |   |   |   |   |   |   |   |   |   |\n",
            "   -------------------------------------\n",
            " 2 |   |   |   |   |   |   |   |   |   |\n",
            "   -------------------------------------\n",
            " 3 |   |   |   |   |   |   |   |   |   |\n",
            "   -------------------------------------\n",
            " 4 |   |   |   |   |   |   |   |   |   |\n",
            "   -------------------------------------\n",
            " 5 |   |   |   |   |   |   |   |   |   |\n",
            "   -------------------------------------\n",
            " 6 |   |   |   |   |   |   |   |   |   |\n",
            "   -------------------------------------\n",
            " 7 |   |   |   |   |   |   |   |   |   |\n",
            "   -------------------------------------\n",
            " 8 |   |   |   |   |   |   |   |   |   |\n",
            "   -------------------------------------\n",
            " 9 |   |   |   |   |   |   |   |   |   |\n",
            "   -------------------------------------\n",
            "\n",
            "Type the column followed by the row (eg. a5). To put or remove a flag, add 'f' to the cell (eg. a5f). Type 'help' to show this message again.\n",
            "\n",
            "Enter the cell (10 mines left): a9\n",
            "\n",
            "\n",
            "\n",
            "     a   b   c   d   e   f   g   h   i   \n",
            "   -------------------------------------\n",
            " 1 | 0 | 1 |   |   |   |   |   |   |   |\n",
            "   -------------------------------------\n",
            " 2 | 0 | 1 |   |   |   |   |   |   |   |\n",
            "   -------------------------------------\n",
            " 3 | 0 | 1 |   |   |   |   |   |   |   |\n",
            "   -------------------------------------\n",
            " 4 | 0 | 1 |   |   |   |   |   |   |   |\n",
            "   -------------------------------------\n",
            " 5 | 0 | 1 |   |   |   |   |   |   |   |\n",
            "   -------------------------------------\n",
            " 6 | 0 | 1 | 1 | 2 |   |   |   |   |   |\n",
            "   -------------------------------------\n",
            " 7 | 0 | 0 | 0 | 2 |   |   |   |   |   |\n",
            "   -------------------------------------\n",
            " 8 | 0 | 0 | 0 | 2 |   |   |   |   |   |\n",
            "   -------------------------------------\n",
            " 9 | 0 | 0 | 0 | 1 |   |   |   |   |   |\n",
            "   -------------------------------------\n",
            "\n",
            "\n",
            "Enter the cell (10 mines left): Traceback (most recent call last):\n",
            "  File \"main.py\", line 219, in <module>\n",
            "  File \"main.py\", line 159, in playgame\n",
            "KeyboardInterrupt\n",
            "^C\n"
          ]
        }
      ]
    },
    {
      "cell_type": "code",
      "source": [],
      "metadata": {
        "id": "MRWsvn35WlGj"
      },
      "execution_count": null,
      "outputs": []
    }
  ]
}